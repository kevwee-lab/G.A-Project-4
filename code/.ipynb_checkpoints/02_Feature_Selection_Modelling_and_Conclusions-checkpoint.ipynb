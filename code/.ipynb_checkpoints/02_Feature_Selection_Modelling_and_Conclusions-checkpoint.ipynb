{
 "cells": [
  {
   "cell_type": "markdown",
   "id": "concrete-potato",
   "metadata": {},
   "source": [
    "## Contents\n",
    "\n",
    "..."
   ]
  },
  {
   "cell_type": "markdown",
   "id": "informative-forum",
   "metadata": {},
   "source": [
    "## Reiteration of Problem Statement\n",
    "\n",
    "..."
   ]
  },
  {
   "cell_type": "markdown",
   "id": "allied-kenya",
   "metadata": {},
   "source": [
    "## Methodology\n",
    "\n",
    "..."
   ]
  },
  {
   "cell_type": "code",
   "execution_count": 1,
   "id": "arabic-driver",
   "metadata": {},
   "outputs": [],
   "source": [
    "# Necessary imports\n",
    "import pandas as pd\n",
    "import numpy as np\n",
    "import seaborn as sns\n",
    "import matplotlib.pyplot as plt\n",
    "\n",
    "from sklearn.model_selection import train_test_split, GridSearchCV\n",
    "from sklearn.preprocessing import StandardScaler, PolynomialFeatures\n",
    "from sklearn.linear_model import LogisticRegression\n",
    "from sklearn.feature_selection import RFE\n",
    "from sklearn.pipeline import Pipeline\n",
    "from sklearn.ensemble import GradientBoostingClassifier\n",
    "from sklearn.svm import SVC\n",
    "import sklearn.metrics as metrics"
   ]
  },
  {
   "cell_type": "code",
   "execution_count": 3,
   "id": "infinite-shore",
   "metadata": {},
   "outputs": [],
   "source": [
    "train = pd.read_csv('../assets/train_combined.csv', parse_dates=['date'])\n",
    "test = pd.read_csv('../assets/test_combined.csv', parse_dates=['date'])"
   ]
  },
  {
   "cell_type": "markdown",
   "id": "romance-tutorial",
   "metadata": {},
   "source": [
    "## Preprocessing\n",
    "\n",
    "(just standard scaler first, later section then poly)"
   ]
  },
  {
   "cell_type": "code",
   "execution_count": null,
   "id": "frozen-liberal",
   "metadata": {},
   "outputs": [],
   "source": []
  },
  {
   "cell_type": "markdown",
   "id": "subjective-integer",
   "metadata": {},
   "source": [
    "## Model with Base Features\n",
    "\n",
    ".."
   ]
  },
  {
   "cell_type": "code",
   "execution_count": null,
   "id": "closing-saudi",
   "metadata": {},
   "outputs": [],
   "source": []
  },
  {
   "cell_type": "markdown",
   "id": "veterinary-syndrome",
   "metadata": {},
   "source": [
    "## Polynomial Features\n",
    "\n",
    "see if can improve metrics..."
   ]
  },
  {
   "cell_type": "markdown",
   "id": "negative-prefix",
   "metadata": {},
   "source": [
    "### PCA\n",
    "\n",
    "..."
   ]
  },
  {
   "cell_type": "code",
   "execution_count": null,
   "id": "fantastic-budapest",
   "metadata": {},
   "outputs": [],
   "source": []
  },
  {
   "cell_type": "markdown",
   "id": "instructional-manner",
   "metadata": {},
   "source": [
    "### Selection of Features by Correlation\n",
    "\n",
    "(find the proper term)"
   ]
  },
  {
   "cell_type": "code",
   "execution_count": null,
   "id": "scheduled-retention",
   "metadata": {},
   "outputs": [],
   "source": []
  },
  {
   "cell_type": "markdown",
   "id": "sought-guarantee",
   "metadata": {},
   "source": [
    "## SMOTE\n",
    "\n",
    "to resolve class imbalance ..."
   ]
  },
  {
   "cell_type": "code",
   "execution_count": null,
   "id": "ordinary-venue",
   "metadata": {},
   "outputs": [],
   "source": []
  },
  {
   "cell_type": "markdown",
   "id": "contrary-feelings",
   "metadata": {},
   "source": [
    "## Model Evaluation\n",
    "\n",
    "(without final conclusion)"
   ]
  },
  {
   "cell_type": "markdown",
   "id": "numeric-lithuania",
   "metadata": {},
   "source": [
    "## Cost-Benefit Analysis of Spraying\n",
    "\n",
    "..."
   ]
  },
  {
   "cell_type": "markdown",
   "id": "practical-pantyhose",
   "metadata": {},
   "source": [
    "## Conclusions\n",
    "\n",
    "insights/findings from evaluation & CBA"
   ]
  },
  {
   "cell_type": "code",
   "execution_count": null,
   "id": "incorrect-myrtle",
   "metadata": {},
   "outputs": [],
   "source": []
  }
 ],
 "metadata": {
  "kernelspec": {
   "display_name": "Python 3",
   "language": "python",
   "name": "python3"
  },
  "language_info": {
   "codemirror_mode": {
    "name": "ipython",
    "version": 3
   },
   "file_extension": ".py",
   "mimetype": "text/x-python",
   "name": "python",
   "nbconvert_exporter": "python",
   "pygments_lexer": "ipython3",
   "version": "3.8.5"
  }
 },
 "nbformat": 4,
 "nbformat_minor": 5
}
