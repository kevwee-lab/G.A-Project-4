{
 "cells": [
  {
   "cell_type": "markdown",
   "metadata": {},
   "source": [
    "# Contents\n",
    "\n",
    "- [Reiteration of Problem statement](#Reiteration-of-Problem-statement)\n",
    "- [Methodology](#Methodology)\n",
    "- [Preprocessing](#Preprocessing)\n",
    "- [Model with Base Features](#Model-with-Base-Features)\n",
    "- [Polynomial Features](#Polynomial-Features)\n",
    "- [SMOTE](#SMOTE)\n",
    "- [Model Evaluaton](#Model-Evaluaton)\n",
    "- [Cost-Benefit Analysis of Spraying](#Cost-Benefit-Analysis-of-Spraying)\n",
    "- [Conclusions](#Conclusions)"
   ]
  },
  {
   "cell_type": "markdown",
   "metadata": {},
   "source": [
    "# Reiteration of Problem Statement\n",
    "\n",
    "In view of the recent epidemic in Windy City of Chicago state affecting the state population, we aim to build a classifier model to make predictions on the possibility of West Nile Virus occurence on various locations of interest, which could be used to aid the deployment of pesticides in the fight for public health and safety. \n",
    "The model would be build using collected data related to mosquito population from the surveillance and control system setup by Deparment of Public Health. \n",
    "\n",
    "In addition, a cost-benefit analysis would be conducted on the cost benefits for the use of pesticides as a response in managing the epidemic. "
   ]
  },
  {
   "cell_type": "markdown",
   "metadata": {},
   "source": [
    "# Methodology\n",
    "\n",
    "The methodology involved in the modelling process can be described as follows:\n",
    "\n",
    "**1) Preprocessing and direct modelling**\n",
    " - Converting the data into suitable format for modelling\n",
    " - Applying baseline classifier to set baseline metric for comparison with of other models\n",
    " - Applying pearson's correlation with 3 different cutoff points for correlation (> 0.01, > 0.05 and > 0.1) to identify correlated features while selecting useful features for direct modelling. Models considered are listed in point 4\n",
    " \n",
    "**2) Feature Expansion**\n",
    " - Generate polynomial and interaction features to increase the number of features involving cross terms with a degree 2 to prevent excessive feature expansion and scaling the data subsequently\n",
    " \n",
    "**3) Feature Selection**\n",
    " - A) Recursive Feature Selection to select ideal features for modelling\n",
    " - B) Principal Component Analysis to reduce dimensionality of features by using principal component features generated from the data features\n",
    " \n",
    "**4) Modelling, hyperparameter tuning and best model selection**\n",
    "\n",
    "- Models considered with hyperparameters dictated by gridsearch\n",
    " - A) **Support Vector Classifier**: Effective in high dimensional spaces. Uses a subset of training points in the decision function.\n",
    " - B) **Logistic Regression**: Effective in binary classification.\n",
    " - C) **Gradient boost**: Produces a prediction model in the form of an ensemble of weak prediction models, typically decision trees. Uses gradient descent algorithm.\n",
    " - D) **Xg boost**: Similar to gradient boost, but it uses a more regularized model formalization to control over-fitting.\n",
    " - E) **Random Forest**: Constructs decision trees at training time and outputting the class that is the mode of the classes.\n",
    " - F) **Extra Trees**: Similar to Random Forest. However, the splits of the trees in the Random Forest are deterministic. It is random for extratrees.\n",
    "\n",
    "- Subsequently finetune the parameters, and select the best model based on ROC-AUC score, precision and recall."
   ]
  },
  {
   "cell_type": "code",
   "execution_count": 15,
   "metadata": {},
   "outputs": [],
   "source": [
    "# Necessary imports\n",
    "import pandas as pd\n",
    "import numpy as np\n",
    "import seaborn as sns\n",
    "import matplotlib.pyplot as plt\n",
    "\n",
    "from sklearn.model_selection import train_test_split, GridSearchCV\n",
    "from sklearn.preprocessing import StandardScaler, PolynomialFeatures\n",
    "from sklearn.linear_model import LogisticRegression\n",
    "from sklearn.feature_selection import RFE\n",
    "from sklearn.pipeline import Pipeline\n",
    "from sklearn.ensemble import GradientBoostingClassifier\n",
    "from sklearn.svm import SVC\n",
    "import sklearn.metrics as metrics\n",
    "from sklearn.decomposition import PCA"
   ]
  },
  {
   "cell_type": "code",
   "execution_count": 35,
   "metadata": {},
   "outputs": [],
   "source": [
    "from xgboost import XGBClassifier"
   ]
  },
  {
   "cell_type": "code",
   "execution_count": 3,
   "metadata": {},
   "outputs": [],
   "source": [
    "train = pd.read_csv('../assets/train_combined.csv', parse_dates=['date'])\n",
    "test = pd.read_csv('../assets/test_combined.csv', parse_dates=['date'])"
   ]
  },
  {
   "cell_type": "markdown",
   "metadata": {},
   "source": [
    "## Preprocessing\n",
    "\n",
    "(just standard scaler first, later section then poly)"
   ]
  },
  {
   "cell_type": "code",
   "execution_count": 21,
   "metadata": {},
   "outputs": [],
   "source": [
    "# Define X,y\n",
    "y = train['wnvpresent']\n",
    "X = train.drop(columns=['wnvpresent','date'])\n",
    "\n",
    "# Train/test split our data.\n",
    "X_train, X_holdout, y_train, y_holdout = train_test_split(X,\n",
    "                                                    y,\n",
    "                                                    stratify = y,\n",
    "                                                    test_size = 0.30,\n",
    "                                                    random_state = 42)\n",
    "\n",
    "# Instantiate our StandardScaler.\n",
    "ss = StandardScaler()\n",
    "# Scale X_train.\n",
    "X_train_sc = ss.fit_transform(X_train)\n",
    "# Scale X_test.\n",
    "X_holdout_sc = ss.transform(X_holdout)"
   ]
  },
  {
   "cell_type": "markdown",
   "metadata": {},
   "source": [
    "## Model with Base Features\n",
    "\n",
    ".."
   ]
  },
  {
   "cell_type": "code",
   "execution_count": null,
   "metadata": {},
   "outputs": [],
   "source": []
  },
  {
   "cell_type": "markdown",
   "metadata": {},
   "source": [
    "## Polynomial Features"
   ]
  },
  {
   "cell_type": "markdown",
   "metadata": {},
   "source": [
    "We will try out doing polynomial features on our training data to see if we can improve our final model.\n",
    "Due to notebook structure, we will comment out the code below that is used to run polynomial features."
   ]
  },
  {
   "cell_type": "markdown",
   "metadata": {},
   "source": [
    "\\# Poly by power of 2.  \n",
    "pf = PolynomialFeatures(degree=2)  \n",
    "\\# Fit and transform our X data using Polynomial Features.  \n",
    "X_new = pf.fit_transform(X)  "
   ]
  },
  {
   "cell_type": "markdown",
   "metadata": {},
   "source": [
    "### PCA"
   ]
  },
  {
   "cell_type": "markdown",
   "metadata": {},
   "source": [
    "1) We perform PCA to do feature extraction on our models, selecting the best features to be used.\n",
    "\n",
    "**Two assumptions that PCA makes:**\n",
    "\n",
    " -- A. **Linearity:** PCA detects and controls for linear relationships, so we assume that the data does not hold nonlinear relationships (or that we don't care about these nonlinear relationships).\n",
    "    - We are using our covariance matrix to determine important \"directions,\" which is a measure of the linear relationship between observations!\n",
    "    \n",
    " -- B. **Large variances define importance:** If data is spread in a direction, that direction is important! If there is little spread in a direction, that direction is not very important.\n",
    "\n",
    "2) GridsearchCV etc to get best results. Compare best model for each feature set, choose best of best\n",
    "\n",
    "3) Refit best model to entire dataset and predict test set & submit"
   ]
  },
  {
   "cell_type": "code",
   "execution_count": 30,
   "metadata": {},
   "outputs": [],
   "source": [
    "# Define X,y\n",
    "y = train['wnvpresent']\n",
    "X = train.drop(columns=['wnvpresent','date'])\n",
    "\n",
    "\n",
    "# Poly by power of 2.\n",
    "pf = PolynomialFeatures(degree=2)\n",
    "# Fit and transform our X data using Polynomial Features.\n",
    "X_new = pf.fit_transform(X)\n",
    "\n",
    "# Train/test split our data.\n",
    "X_train, X_holdout, y_train, y_holdout = train_test_split(X_new,\n",
    "                                                    y,\n",
    "                                                    stratify = y,\n",
    "                                                    test_size = 0.30,\n",
    "                                                    random_state = 42)\n",
    "\n",
    "# Instantiate our StandardScaler.\n",
    "ss = StandardScaler()\n",
    "# Scale X_train.\n",
    "X_train_sc = ss.fit_transform(X_train)\n",
    "# Scale X_test.\n",
    "X_holdout_sc = ss.transform(X_holdout)\n",
    "\n",
    "\n",
    "# Instantiate PCA.\n",
    "pca = PCA()\n",
    "# Fit PCA on the training data.\n",
    "pca.fit(X_train_sc)\n",
    "# Transform PCA on the training data.\n",
    "Z_train = pca.transform(X_train_sc)\n",
    "# Don't forget to transform the test data!\n",
    "Z_holdout = pca.transform(X_holdout_sc)"
   ]
  },
  {
   "cell_type": "code",
   "execution_count": 31,
   "metadata": {},
   "outputs": [
    {
     "data": {
      "image/png": "[encoded data removed]",
      "text/plain": [
       "<Figure size 864x576 with 1 Axes>"
      ]
     },
     "metadata": {
      "needs_background": "light"
     },
     "output_type": "display_data"
    }
   ],
   "source": [
    "# Plot the variance explained (and cumulative variance explained).\n",
    "\n",
    "# Pull the explained variance attribute.\n",
    "var_exp = pca.explained_variance_ratio_\n",
    "#print(f'Explained variance (first 50 components): {np.round(var_exp[:50],3)}')\n",
    "\n",
    "# Generate the cumulative explained variance.\n",
    "cum_var_exp = np.cumsum(var_exp)\n",
    "#print(f'Cumulative explained variance (first 50 components): {np.round(cum_var_exp[:50],3)}')\n",
    "\n",
    "# Set figure size.\n",
    "plt.figure(figsize=(12,8))\n",
    "\n",
    "# Plot the explained variance.\n",
    "plt.plot(range(len(var_exp)), var_exp, lw=3, label = 'Variance Explained')\n",
    "\n",
    "# Plot the cumulative explained variance.\n",
    "plt.plot(range(len(var_exp)), cum_var_exp, lw=3, color = 'orange', label = 'Cumulative Variance Explained')\n",
    "\n",
    "# Add horizontal lines at y=0 and y=1.\n",
    "plt.axhline(y=0, linewidth=1, color='grey', ls='dashed')\n",
    "plt.axhline(y=1, linewidth=1, color='grey', ls='dashed')\n",
    "\n",
    "# Set the limits of the axes.\n",
    "plt.xlim([-1,31])\n",
    "plt.ylim([-0.01,1.01])\n",
    "\n",
    "# Label the axes.\n",
    "plt.ylabel('Variance Explained', fontsize=20)\n",
    "plt.xlabel('Principal Component', fontsize=20)\n",
    "\n",
    "# Make the tick labels bigger\n",
    "plt.xticks(range(0, 51, 5), range(1, 52, 5), fontsize=12)\n",
    "plt.yticks(fontsize=12)\n",
    "    \n",
    "# Add title and legend.\n",
    "plt.title('Component vs. Variance Explained', fontsize=24)\n",
    "plt.legend(fontsize=11);"
   ]
  },
  {
   "cell_type": "markdown",
   "metadata": {},
   "source": [
    "Based on our graph above, we can observe that the top30 components are able to explain the 97.6% of the variance, top40 at 98.9% and all 50 at 99.4%.  \n",
    "However, we will perform GridSearch to find the best components number to fit into our model."
   ]
  },
  {
   "cell_type": "code",
   "execution_count": 36,
   "metadata": {},
   "outputs": [],
   "source": [
    "# Create DataFrame and write data in\n",
    "model_results = pd.DataFrame(columns=['model','best_params'])\n",
    "\n",
    "# List of pipeline steps for each model\n",
    "pipelist = [ \n",
    "    [('pca',PCA()),('logreg',LogisticRegression(solver='lbfgs', max_iter=5000))],\n",
    "    [('pca',PCA()),('xgboost', XGBClassifier())]]\n",
    "\n",
    "# Name each steps to include in out model\n",
    "steps_titles = ['logreg', 'xgb',]\n",
    "\n",
    "# Set the pipeline parameters\n",
    "pipe_params = [\n",
    "    # For logreg\n",
    "    {'pca__n_components': [30,40,50],\n",
    "     'logreg__C': [1,10,20]},\n",
    "    # For xgb\n",
    "    {'pca__n_components': [30,40,50],\n",
    "    'xgboost__max_depth': [3, 4, 5, 6], #Depth of tree (higher value implies liekly overfit)\n",
    "    'xgboost__gamma' : [ 0.0, 0.2 , 0.4], #Min loss reduction required for further partition\n",
    "    'xgboost__learning_rate' : [0.15, 0.25, 0.35], #step size feature weight shrinkage\n",
    "    'xgboost__use_label_encoder' : [False],\n",
    "    'xgboost__eval_metric': [\"auc\"],\n",
    "    \"xgboost__objective\" : [\"binary:logistic\"]}]"
   ]
  },
  {
   "cell_type": "code",
   "execution_count": 39,
   "metadata": {},
   "outputs": [],
   "source": [
    "# Loop through our GridSearch and write into our table (gscv_results)\n",
    "for i in range(len(steps_titles)):     \n",
    "    pipe = Pipeline(steps=pipelist[i]) \n",
    "    gs = GridSearchCV(pipe, pipe_params[i], cv=3) \n",
    "    \n",
    "    # Results for each model (dict)\n",
    "    model_metric = {}\n",
    "\n",
    "    gs.fit(Z_train, y_train)\n",
    "    \n",
    "    # Set each value into temporary dict\n",
    "    model_metric['model'] = steps_titles[i]\n",
    "    model_metric['best_params'] = gs.best_params_\n",
    "    model_metric['train_score'] = round(gs.score(Z_train, y_train),4)\n",
    "    model_metric['test_score'] = round(gs.score(Z_holdout, y_holdout),4)\n",
    "    \n",
    "    preds = gs.predict(Z_holdout)\n",
    "    preds_proba = gs.predict_proba(Z_holdout)[:,1]\n",
    "    #train_preds_proba = gs.predict_proba(Z_train)[:,1]\n",
    "    \n",
    "    #model_metric['Train ROC-AUC Score'] = metrics.roc_auc_score(y_train, train_preds_proba)\n",
    "    model_metric['Test ROC-AUC Score'] = metrics.roc_auc_score(y_holdout, preds_proba)\n",
    "    #model_metric['F1'] = metrics.f1_score(y_test, preds)\n",
    "    #model_metric['Precision'] = metrics.precision_score(y_test, preds)\n",
    "    #model_metric['Recall'] = metrics.recall_score(y_test, preds)\n",
    "    #model_metric['Accuracy'] = metrics.accuracy_score(y_test, preds)\n",
    "    \n",
    "    model_results = model_results.append(model_metric, ignore_index=True)"
   ]
  },
  {
   "cell_type": "code",
   "execution_count": 41,
   "metadata": {
    "scrolled": true
   },
   "outputs": [
    {
     "data": {
      "text/html": [
       "<div>\n",
       "<style scoped>\n",
       "    .dataframe tbody tr th:only-of-type {\n",
       "        vertical-align: middle;\n",
       "    }\n",
       "\n",
       "    .dataframe tbody tr th {\n",
       "        vertical-align: top;\n",
       "    }\n",
       "\n",
       "    .dataframe thead th {\n",
       "        text-align: right;\n",
       "    }\n",
       "</style>\n",
       "<table border=\"1\" class=\"dataframe\">\n",
       "  <thead>\n",
       "    <tr style=\"text-align: right;\">\n",
       "      <th></th>\n",
       "      <th>model</th>\n",
       "      <th>best_params</th>\n",
       "      <th>Test ROC-AUC Score</th>\n",
       "      <th>test_score</th>\n",
       "      <th>train_score</th>\n",
       "    </tr>\n",
       "  </thead>\n",
       "  <tbody>\n",
       "    <tr>\n",
       "      <th>0</th>\n",
       "      <td>logreg</td>\n",
       "      <td>{'logreg__C': 1, 'pca__n_components': 30}</td>\n",
       "      <td>0.825832</td>\n",
       "      <td>0.9457</td>\n",
       "      <td>0.9459</td>\n",
       "    </tr>\n",
       "    <tr>\n",
       "      <th>1</th>\n",
       "      <td>xgb</td>\n",
       "      <td>{'pca__n_components': 40, 'xgboost__eval_metric': 'auc', 'xgboost__gamma': 0.4, 'xgboost__learning_rate': 0.15, 'xgboost__max_depth': 3, 'xgboost__objective': 'binary:logistic', 'xgboost__use_label_encoder': False}</td>\n",
       "      <td>0.840012</td>\n",
       "      <td>0.9473</td>\n",
       "      <td>0.9501</td>\n",
       "    </tr>\n",
       "  </tbody>\n",
       "</table>\n",
       "</div>"
      ],
      "text/plain": [
       "    model  \\\n",
       "0  logreg   \n",
       "1     xgb   \n",
       "\n",
       "                                                                                                                                                                                                              best_params  \\\n",
       "0                                                                                                                                                                               {'logreg__C': 1, 'pca__n_components': 30}   \n",
       "1  {'pca__n_components': 40, 'xgboost__eval_metric': 'auc', 'xgboost__gamma': 0.4, 'xgboost__learning_rate': 0.15, 'xgboost__max_depth': 3, 'xgboost__objective': 'binary:logistic', 'xgboost__use_label_encoder': False}   \n",
       "\n",
       "   Test ROC-AUC Score  test_score  train_score  \n",
       "0            0.825832      0.9457       0.9459  \n",
       "1            0.840012      0.9473       0.9501  "
      ]
     },
     "execution_count": 41,
     "metadata": {},
     "output_type": "execute_result"
    }
   ],
   "source": [
    "#pd.set_option('display.max_colwidth', None)\n",
    "#model_results"
   ]
  },
  {
   "cell_type": "markdown",
   "metadata": {},
   "source": [
    "Markdown table (in case):\n",
    "\n",
    "| Models   | Best Params                                                                                                                                                                                                            | Test ROC-AUC Score | test_score | train_score |\n",
    "|----------|------------------------------------------------------------------------------------------------------------------------------------------------------------------------------------------------------------------------|--------------------|------------|-------------|\n",
    "| Logistic | {'logreg__C': 1, 'pca__n_components': 30}                                                                                                                                                                              | 0.825832           | 0.9457     | 0.9459      |\n",
    "| XGBoost  | {'pca__n_components': 40, 'xgboost__eval_metric': 'auc', 'xgboost__gamma': 0.4, 'xgboost__learning_rate': 0.15, 'xgboost__max_depth': 3, 'xgboost__objective': 'binary:logistic', 'xgboost__use_label_encoder': False} | 0.840012           | 0.9473     | 0.9501      |"
   ]
  },
  {
   "cell_type": "markdown",
   "metadata": {},
   "source": [
    "<u>**Polynomial + PCA Summary**</u>\n",
    "\n",
    "Firstly, we expanded the features using polynomial features with degree of 2. This created 1000+ features in our feature set. \n",
    "Then we used PCA to try to reduce the dimensionality.  \n",
    "As observed above, we can explain up to 99.4% of the variation in our data with 50 components at best.\n",
    "\n",
    "During our modelling process, we tried multiple models (Logistic reg, AdaBoost, Gradient Boost, SVM, Random Forest, Extra Trees and XGBoost.\n",
    "\n",
    "From the model summary table, noticed that the best 2 models were XGBoost classifier and logistic regression. They did perform well on our accuracy score and ROC-AUC score. However, the score is still lower than our best model (discussed below).\n",
    "\n",
    "The ROC-AUC score that we prioritise and can be obtained from our procedure above only yielded 0.84 at best."
   ]
  },
  {
   "cell_type": "code",
   "execution_count": null,
   "metadata": {},
   "outputs": [],
   "source": []
  },
  {
   "cell_type": "markdown",
   "metadata": {},
   "source": [
    "### Selection of Features by Correlation\n",
    "\n",
    "(find the proper term)"
   ]
  },
  {
   "cell_type": "code",
   "execution_count": null,
   "metadata": {},
   "outputs": [],
   "source": []
  },
  {
   "cell_type": "markdown",
   "metadata": {},
   "source": [
    "## SMOTE\n",
    "\n",
    "to resolve class imbalance ..."
   ]
  },
  {
   "cell_type": "code",
   "execution_count": null,
   "metadata": {},
   "outputs": [],
   "source": []
  },
  {
   "cell_type": "markdown",
   "metadata": {},
   "source": [
    "## Model Evaluation\n",
    "\n",
    "|Classifier|Cutoff|PCA_components|Train ROC-AUC Score|Test ROC-AUC Score|F1|Precision|Recall|Accuracy|\n",
    "|---|---|---|---|---|---|---|---|---|\n",
    "||||||||||\n",
    "||||||||||\n",
    "|****|||||||||\n",
    "|****|||||||||"
   ]
  },
  {
   "cell_type": "markdown",
   "metadata": {},
   "source": [
    "# Cost-Benefit Analysis of Spraying\n",
    "\n",
    "..."
   ]
  },
  {
   "cell_type": "markdown",
   "metadata": {},
   "source": [
    "# Conclusions\n",
    "\n",
    "insights/findings from evaluation & CBA"
   ]
  },
  {
   "cell_type": "code",
   "execution_count": null,
   "metadata": {},
   "outputs": [],
   "source": []
  }
 ],
 "metadata": {
  "kernelspec": {
   "display_name": "Python 3",
   "language": "python",
   "name": "python3"
  },
  "language_info": {
   "codemirror_mode": {
    "name": "ipython",
    "version": 3
   },
   "file_extension": ".py",
   "mimetype": "text/x-python",
   "name": "python",
   "nbconvert_exporter": "python",
   "pygments_lexer": "ipython3",
   "version": "3.8.5"
  },
  "toc": {
   "base_numbering": 1,
   "nav_menu": {},
   "number_sections": true,
   "sideBar": true,
   "skip_h1_title": false,
   "title_cell": "Table of Contents",
   "title_sidebar": "Contents",
   "toc_cell": false,
   "toc_position": {},
   "toc_section_display": true,
   "toc_window_display": true
  }
 },
 "nbformat": 4,
 "nbformat_minor": 5
}
