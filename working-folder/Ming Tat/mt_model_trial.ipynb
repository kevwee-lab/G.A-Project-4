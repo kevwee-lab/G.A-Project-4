{
 "cells": [
  {
   "cell_type": "code",
   "execution_count": 1,
   "metadata": {},
   "outputs": [],
   "source": [
    "import numpy as np\n",
    "import pandas as pd\n",
    "from datetime import datetime\n",
    "import seaborn as sns\n",
    "import matplotlib.pyplot as plt"
   ]
  },
  {
   "cell_type": "code",
   "execution_count": 2,
   "metadata": {},
   "outputs": [],
   "source": [
    "# Import our libraries.\n",
    "import pandas as pd\n",
    "import numpy as np\n",
    "import matplotlib.pyplot as plt\n",
    "import seaborn as sns\n",
    "\n",
    "# Import from sklearn.\n",
    "from sklearn.preprocessing import PolynomialFeatures, StandardScaler\n",
    "\n",
    "# Import PCA.\n",
    "from sklearn.decomposition import PCA"
   ]
  },
  {
   "cell_type": "code",
   "execution_count": 3,
   "metadata": {},
   "outputs": [],
   "source": [
    "# Imports for modelling\n",
    "from sklearn.model_selection import train_test_split, GridSearchCV\n",
    "from sklearn.pipeline import Pipeline\n",
    "from sklearn.feature_extraction.text import CountVectorizer, TfidfVectorizer\n",
    "from sklearn.linear_model import LogisticRegression\n",
    "from sklearn.naive_bayes import MultinomialNB\n",
    "from sklearn.ensemble import RandomForestClassifier,ExtraTreesClassifier\n",
    "from sklearn.ensemble import AdaBoostClassifier, GradientBoostingClassifier\n",
    "from sklearn.metrics import confusion_matrix\n",
    "from sklearn.svm import SVC\n",
    "from sklearn import metrics"
   ]
  },
  {
   "cell_type": "code",
   "execution_count": 4,
   "metadata": {},
   "outputs": [],
   "source": [
    "combined = pd.read_csv('../../data/combined_kev.csv')"
   ]
  },
  {
   "cell_type": "code",
   "execution_count": 5,
   "metadata": {},
   "outputs": [
    {
     "data": {
      "text/html": [
       "<div>\n",
       "<style scoped>\n",
       "    .dataframe tbody tr th:only-of-type {\n",
       "        vertical-align: middle;\n",
       "    }\n",
       "\n",
       "    .dataframe tbody tr th {\n",
       "        vertical-align: top;\n",
       "    }\n",
       "\n",
       "    .dataframe thead th {\n",
       "        text-align: right;\n",
       "    }\n",
       "</style>\n",
       "<table border=\"1\" class=\"dataframe\">\n",
       "  <thead>\n",
       "    <tr style=\"text-align: right;\">\n",
       "      <th></th>\n",
       "      <th>date</th>\n",
       "      <th>species</th>\n",
       "      <th>wnvpresent</th>\n",
       "      <th>trap</th>\n",
       "      <th>latitude</th>\n",
       "      <th>longitude</th>\n",
       "      <th>species_ord</th>\n",
       "      <th>tmax</th>\n",
       "      <th>tmin</th>\n",
       "      <th>tavg</th>\n",
       "      <th>...</th>\n",
       "      <th>rel_humid_lag5</th>\n",
       "      <th>rel_humid_lag14</th>\n",
       "      <th>rel_humid_lag28</th>\n",
       "      <th>avgspeed_lag5</th>\n",
       "      <th>avgspeed_lag14</th>\n",
       "      <th>avgspeed_lag28</th>\n",
       "      <th>preciptotal_lag5</th>\n",
       "      <th>preciptotal_lag14</th>\n",
       "      <th>preciptotal_lag28</th>\n",
       "      <th>week_number</th>\n",
       "    </tr>\n",
       "  </thead>\n",
       "  <tbody>\n",
       "    <tr>\n",
       "      <th>0</th>\n",
       "      <td>2007-05-29</td>\n",
       "      <td>CULEX PIPIENS</td>\n",
       "      <td>0</td>\n",
       "      <td>T096</td>\n",
       "      <td>41.731922</td>\n",
       "      <td>-87.677512</td>\n",
       "      <td>2.0</td>\n",
       "      <td>88</td>\n",
       "      <td>62</td>\n",
       "      <td>75</td>\n",
       "      <td>...</td>\n",
       "      <td>59.221367</td>\n",
       "      <td>40.692805</td>\n",
       "      <td>38.885597</td>\n",
       "      <td>7.51</td>\n",
       "      <td>9.682143</td>\n",
       "      <td>10.2</td>\n",
       "      <td>0.15</td>\n",
       "      <td>0.069286</td>\n",
       "      <td>0.055357</td>\n",
       "      <td>22</td>\n",
       "    </tr>\n",
       "    <tr>\n",
       "      <th>1</th>\n",
       "      <td>2007-05-29</td>\n",
       "      <td>CULEX PIPIENS/RESTUANS</td>\n",
       "      <td>0</td>\n",
       "      <td>T086</td>\n",
       "      <td>41.688324</td>\n",
       "      <td>-87.676709</td>\n",
       "      <td>2.0</td>\n",
       "      <td>88</td>\n",
       "      <td>62</td>\n",
       "      <td>75</td>\n",
       "      <td>...</td>\n",
       "      <td>59.221367</td>\n",
       "      <td>40.692805</td>\n",
       "      <td>38.885597</td>\n",
       "      <td>7.51</td>\n",
       "      <td>9.682143</td>\n",
       "      <td>10.2</td>\n",
       "      <td>0.15</td>\n",
       "      <td>0.069286</td>\n",
       "      <td>0.055357</td>\n",
       "      <td>22</td>\n",
       "    </tr>\n",
       "    <tr>\n",
       "      <th>2</th>\n",
       "      <td>2007-05-29</td>\n",
       "      <td>CULEX PIPIENS/RESTUANS</td>\n",
       "      <td>0</td>\n",
       "      <td>T048</td>\n",
       "      <td>41.867108</td>\n",
       "      <td>-87.654224</td>\n",
       "      <td>2.0</td>\n",
       "      <td>88</td>\n",
       "      <td>62</td>\n",
       "      <td>75</td>\n",
       "      <td>...</td>\n",
       "      <td>59.221367</td>\n",
       "      <td>40.692805</td>\n",
       "      <td>38.885597</td>\n",
       "      <td>7.51</td>\n",
       "      <td>9.682143</td>\n",
       "      <td>10.2</td>\n",
       "      <td>0.15</td>\n",
       "      <td>0.069286</td>\n",
       "      <td>0.055357</td>\n",
       "      <td>22</td>\n",
       "    </tr>\n",
       "    <tr>\n",
       "      <th>3</th>\n",
       "      <td>2007-05-29</td>\n",
       "      <td>CULEX PIPIENS/RESTUANS</td>\n",
       "      <td>0</td>\n",
       "      <td>T129</td>\n",
       "      <td>41.891126</td>\n",
       "      <td>-87.611560</td>\n",
       "      <td>2.0</td>\n",
       "      <td>88</td>\n",
       "      <td>62</td>\n",
       "      <td>75</td>\n",
       "      <td>...</td>\n",
       "      <td>59.221367</td>\n",
       "      <td>40.692805</td>\n",
       "      <td>38.885597</td>\n",
       "      <td>7.51</td>\n",
       "      <td>9.682143</td>\n",
       "      <td>10.2</td>\n",
       "      <td>0.15</td>\n",
       "      <td>0.069286</td>\n",
       "      <td>0.055357</td>\n",
       "      <td>22</td>\n",
       "    </tr>\n",
       "    <tr>\n",
       "      <th>4</th>\n",
       "      <td>2007-05-29</td>\n",
       "      <td>CULEX PIPIENS/RESTUANS</td>\n",
       "      <td>0</td>\n",
       "      <td>T050</td>\n",
       "      <td>41.919343</td>\n",
       "      <td>-87.694259</td>\n",
       "      <td>2.0</td>\n",
       "      <td>88</td>\n",
       "      <td>62</td>\n",
       "      <td>75</td>\n",
       "      <td>...</td>\n",
       "      <td>59.221367</td>\n",
       "      <td>40.692805</td>\n",
       "      <td>38.885597</td>\n",
       "      <td>7.51</td>\n",
       "      <td>9.682143</td>\n",
       "      <td>10.2</td>\n",
       "      <td>0.15</td>\n",
       "      <td>0.069286</td>\n",
       "      <td>0.055357</td>\n",
       "      <td>22</td>\n",
       "    </tr>\n",
       "  </tbody>\n",
       "</table>\n",
       "<p>5 rows × 52 columns</p>\n",
       "</div>"
      ],
      "text/plain": [
       "         date                 species  wnvpresent  trap   latitude  longitude  \\\n",
       "0  2007-05-29           CULEX PIPIENS           0  T096  41.731922 -87.677512   \n",
       "1  2007-05-29  CULEX PIPIENS/RESTUANS           0  T086  41.688324 -87.676709   \n",
       "2  2007-05-29  CULEX PIPIENS/RESTUANS           0  T048  41.867108 -87.654224   \n",
       "3  2007-05-29  CULEX PIPIENS/RESTUANS           0  T129  41.891126 -87.611560   \n",
       "4  2007-05-29  CULEX PIPIENS/RESTUANS           0  T050  41.919343 -87.694259   \n",
       "\n",
       "   species_ord  tmax  tmin  tavg  ...  rel_humid_lag5  rel_humid_lag14  \\\n",
       "0          2.0    88    62    75  ...       59.221367        40.692805   \n",
       "1          2.0    88    62    75  ...       59.221367        40.692805   \n",
       "2          2.0    88    62    75  ...       59.221367        40.692805   \n",
       "3          2.0    88    62    75  ...       59.221367        40.692805   \n",
       "4          2.0    88    62    75  ...       59.221367        40.692805   \n",
       "\n",
       "   rel_humid_lag28  avgspeed_lag5  avgspeed_lag14  avgspeed_lag28  \\\n",
       "0        38.885597           7.51        9.682143            10.2   \n",
       "1        38.885597           7.51        9.682143            10.2   \n",
       "2        38.885597           7.51        9.682143            10.2   \n",
       "3        38.885597           7.51        9.682143            10.2   \n",
       "4        38.885597           7.51        9.682143            10.2   \n",
       "\n",
       "   preciptotal_lag5  preciptotal_lag14  preciptotal_lag28  week_number  \n",
       "0              0.15           0.069286           0.055357           22  \n",
       "1              0.15           0.069286           0.055357           22  \n",
       "2              0.15           0.069286           0.055357           22  \n",
       "3              0.15           0.069286           0.055357           22  \n",
       "4              0.15           0.069286           0.055357           22  \n",
       "\n",
       "[5 rows x 52 columns]"
      ]
     },
     "execution_count": 5,
     "metadata": {},
     "output_type": "execute_result"
    }
   ],
   "source": [
    "combined.head()"
   ]
  },
  {
   "cell_type": "code",
   "execution_count": 6,
   "metadata": {},
   "outputs": [],
   "source": [
    "# convert sunrise & sunset to datetime\n",
    "sunrise = pd.to_datetime(combined['sunrise'], format='%H%M')\n",
    "# fix entries - round off 60min to the next hour\n",
    "sunset = pd.to_datetime(combined['sunset'].map(lambda x: 1800 if x == 1760 else x), format='%H%M')\n",
    "# convert to seconds from start of day to be consistent input into model\n",
    "combined['sunrise'] = (sunrise - sunrise.dt.normalize()).dt.seconds\n",
    "combined['sunset'] = (sunset - sunset.dt.normalize()).dt.seconds\n",
    "# add total sunlight time feature\n",
    "combined['total_sunlight_time'] = (sunset - sunrise).dt.seconds"
   ]
  },
  {
   "cell_type": "code",
   "execution_count": 7,
   "metadata": {},
   "outputs": [
    {
     "data": {
      "text/plain": [
       "(8475, 53)"
      ]
     },
     "execution_count": 7,
     "metadata": {},
     "output_type": "execute_result"
    }
   ],
   "source": [
    "combined.shape"
   ]
  },
  {
   "cell_type": "code",
   "execution_count": 8,
   "metadata": {},
   "outputs": [
    {
     "data": {
      "text/html": [
       "<div>\n",
       "<style scoped>\n",
       "    .dataframe tbody tr th:only-of-type {\n",
       "        vertical-align: middle;\n",
       "    }\n",
       "\n",
       "    .dataframe tbody tr th {\n",
       "        vertical-align: top;\n",
       "    }\n",
       "\n",
       "    .dataframe thead th {\n",
       "        text-align: right;\n",
       "    }\n",
       "</style>\n",
       "<table border=\"1\" class=\"dataframe\">\n",
       "  <thead>\n",
       "    <tr style=\"text-align: right;\">\n",
       "      <th></th>\n",
       "      <th>date</th>\n",
       "      <th>species</th>\n",
       "      <th>wnvpresent</th>\n",
       "      <th>trap</th>\n",
       "      <th>latitude</th>\n",
       "      <th>longitude</th>\n",
       "      <th>species_ord</th>\n",
       "      <th>tmax</th>\n",
       "      <th>tmin</th>\n",
       "      <th>tavg</th>\n",
       "      <th>depart</th>\n",
       "      <th>dewpoint</th>\n",
       "      <th>wetbulb</th>\n",
       "      <th>heat</th>\n",
       "      <th>cool</th>\n",
       "      <th>sunrise</th>\n",
       "      <th>sunset</th>\n",
       "      <th>preciptotal</th>\n",
       "      <th>stnpressure</th>\n",
       "      <th>sealevel</th>\n",
       "      <th>resultspeed</th>\n",
       "      <th>resultdir</th>\n",
       "      <th>avgspeed</th>\n",
       "      <th>BC</th>\n",
       "      <th>HZ</th>\n",
       "      <th>DZ</th>\n",
       "      <th>VC</th>\n",
       "      <th>SQ</th>\n",
       "      <th>TS</th>\n",
       "      <th>RA</th>\n",
       "      <th>GR</th>\n",
       "      <th>MI</th>\n",
       "      <th>BR</th>\n",
       "      <th>FU</th>\n",
       "      <th>FG+</th>\n",
       "      <th>FG</th>\n",
       "      <th>SN</th>\n",
       "      <th>rel_humid</th>\n",
       "      <th>tavg_change</th>\n",
       "      <th>tavg_lag5</th>\n",
       "      <th>tavg_lag14</th>\n",
       "      <th>tavg_lag28</th>\n",
       "      <th>rel_humid_lag5</th>\n",
       "      <th>rel_humid_lag14</th>\n",
       "      <th>rel_humid_lag28</th>\n",
       "      <th>avgspeed_lag5</th>\n",
       "      <th>avgspeed_lag14</th>\n",
       "      <th>avgspeed_lag28</th>\n",
       "      <th>preciptotal_lag5</th>\n",
       "      <th>preciptotal_lag14</th>\n",
       "      <th>preciptotal_lag28</th>\n",
       "      <th>week_number</th>\n",
       "      <th>total_sunlight_time</th>\n",
       "    </tr>\n",
       "  </thead>\n",
       "  <tbody>\n",
       "    <tr>\n",
       "      <th>0</th>\n",
       "      <td>2007-05-29</td>\n",
       "      <td>CULEX PIPIENS</td>\n",
       "      <td>0</td>\n",
       "      <td>T096</td>\n",
       "      <td>41.731922</td>\n",
       "      <td>-87.677512</td>\n",
       "      <td>2.0</td>\n",
       "      <td>88</td>\n",
       "      <td>62</td>\n",
       "      <td>75</td>\n",
       "      <td>11</td>\n",
       "      <td>58</td>\n",
       "      <td>65</td>\n",
       "      <td>0</td>\n",
       "      <td>10</td>\n",
       "      <td>15660</td>\n",
       "      <td>69420</td>\n",
       "      <td>0.0</td>\n",
       "      <td>29.42</td>\n",
       "      <td>30.1</td>\n",
       "      <td>5.8</td>\n",
       "      <td>17</td>\n",
       "      <td>6.95</td>\n",
       "      <td>0</td>\n",
       "      <td>1</td>\n",
       "      <td>0</td>\n",
       "      <td>0</td>\n",
       "      <td>0</td>\n",
       "      <td>0</td>\n",
       "      <td>0</td>\n",
       "      <td>0</td>\n",
       "      <td>0</td>\n",
       "      <td>1</td>\n",
       "      <td>0</td>\n",
       "      <td>0</td>\n",
       "      <td>0</td>\n",
       "      <td>0</td>\n",
       "      <td>62.733526</td>\n",
       "      <td>3.0</td>\n",
       "      <td>65.2</td>\n",
       "      <td>64.357143</td>\n",
       "      <td>63.428571</td>\n",
       "      <td>59.221367</td>\n",
       "      <td>40.692805</td>\n",
       "      <td>38.885597</td>\n",
       "      <td>7.51</td>\n",
       "      <td>9.682143</td>\n",
       "      <td>10.2</td>\n",
       "      <td>0.15</td>\n",
       "      <td>0.069286</td>\n",
       "      <td>0.055357</td>\n",
       "      <td>22</td>\n",
       "      <td>53760</td>\n",
       "    </tr>\n",
       "    <tr>\n",
       "      <th>1</th>\n",
       "      <td>2007-05-29</td>\n",
       "      <td>CULEX PIPIENS/RESTUANS</td>\n",
       "      <td>0</td>\n",
       "      <td>T086</td>\n",
       "      <td>41.688324</td>\n",
       "      <td>-87.676709</td>\n",
       "      <td>2.0</td>\n",
       "      <td>88</td>\n",
       "      <td>62</td>\n",
       "      <td>75</td>\n",
       "      <td>11</td>\n",
       "      <td>58</td>\n",
       "      <td>65</td>\n",
       "      <td>0</td>\n",
       "      <td>10</td>\n",
       "      <td>15660</td>\n",
       "      <td>69420</td>\n",
       "      <td>0.0</td>\n",
       "      <td>29.42</td>\n",
       "      <td>30.1</td>\n",
       "      <td>5.8</td>\n",
       "      <td>17</td>\n",
       "      <td>6.95</td>\n",
       "      <td>0</td>\n",
       "      <td>1</td>\n",
       "      <td>0</td>\n",
       "      <td>0</td>\n",
       "      <td>0</td>\n",
       "      <td>0</td>\n",
       "      <td>0</td>\n",
       "      <td>0</td>\n",
       "      <td>0</td>\n",
       "      <td>1</td>\n",
       "      <td>0</td>\n",
       "      <td>0</td>\n",
       "      <td>0</td>\n",
       "      <td>0</td>\n",
       "      <td>62.733526</td>\n",
       "      <td>3.0</td>\n",
       "      <td>65.2</td>\n",
       "      <td>64.357143</td>\n",
       "      <td>63.428571</td>\n",
       "      <td>59.221367</td>\n",
       "      <td>40.692805</td>\n",
       "      <td>38.885597</td>\n",
       "      <td>7.51</td>\n",
       "      <td>9.682143</td>\n",
       "      <td>10.2</td>\n",
       "      <td>0.15</td>\n",
       "      <td>0.069286</td>\n",
       "      <td>0.055357</td>\n",
       "      <td>22</td>\n",
       "      <td>53760</td>\n",
       "    </tr>\n",
       "    <tr>\n",
       "      <th>2</th>\n",
       "      <td>2007-05-29</td>\n",
       "      <td>CULEX PIPIENS/RESTUANS</td>\n",
       "      <td>0</td>\n",
       "      <td>T048</td>\n",
       "      <td>41.867108</td>\n",
       "      <td>-87.654224</td>\n",
       "      <td>2.0</td>\n",
       "      <td>88</td>\n",
       "      <td>62</td>\n",
       "      <td>75</td>\n",
       "      <td>11</td>\n",
       "      <td>58</td>\n",
       "      <td>65</td>\n",
       "      <td>0</td>\n",
       "      <td>10</td>\n",
       "      <td>15660</td>\n",
       "      <td>69420</td>\n",
       "      <td>0.0</td>\n",
       "      <td>29.42</td>\n",
       "      <td>30.1</td>\n",
       "      <td>5.8</td>\n",
       "      <td>17</td>\n",
       "      <td>6.95</td>\n",
       "      <td>0</td>\n",
       "      <td>1</td>\n",
       "      <td>0</td>\n",
       "      <td>0</td>\n",
       "      <td>0</td>\n",
       "      <td>0</td>\n",
       "      <td>0</td>\n",
       "      <td>0</td>\n",
       "      <td>0</td>\n",
       "      <td>1</td>\n",
       "      <td>0</td>\n",
       "      <td>0</td>\n",
       "      <td>0</td>\n",
       "      <td>0</td>\n",
       "      <td>62.733526</td>\n",
       "      <td>3.0</td>\n",
       "      <td>65.2</td>\n",
       "      <td>64.357143</td>\n",
       "      <td>63.428571</td>\n",
       "      <td>59.221367</td>\n",
       "      <td>40.692805</td>\n",
       "      <td>38.885597</td>\n",
       "      <td>7.51</td>\n",
       "      <td>9.682143</td>\n",
       "      <td>10.2</td>\n",
       "      <td>0.15</td>\n",
       "      <td>0.069286</td>\n",
       "      <td>0.055357</td>\n",
       "      <td>22</td>\n",
       "      <td>53760</td>\n",
       "    </tr>\n",
       "    <tr>\n",
       "      <th>3</th>\n",
       "      <td>2007-05-29</td>\n",
       "      <td>CULEX PIPIENS/RESTUANS</td>\n",
       "      <td>0</td>\n",
       "      <td>T129</td>\n",
       "      <td>41.891126</td>\n",
       "      <td>-87.611560</td>\n",
       "      <td>2.0</td>\n",
       "      <td>88</td>\n",
       "      <td>62</td>\n",
       "      <td>75</td>\n",
       "      <td>11</td>\n",
       "      <td>58</td>\n",
       "      <td>65</td>\n",
       "      <td>0</td>\n",
       "      <td>10</td>\n",
       "      <td>15660</td>\n",
       "      <td>69420</td>\n",
       "      <td>0.0</td>\n",
       "      <td>29.42</td>\n",
       "      <td>30.1</td>\n",
       "      <td>5.8</td>\n",
       "      <td>17</td>\n",
       "      <td>6.95</td>\n",
       "      <td>0</td>\n",
       "      <td>1</td>\n",
       "      <td>0</td>\n",
       "      <td>0</td>\n",
       "      <td>0</td>\n",
       "      <td>0</td>\n",
       "      <td>0</td>\n",
       "      <td>0</td>\n",
       "      <td>0</td>\n",
       "      <td>1</td>\n",
       "      <td>0</td>\n",
       "      <td>0</td>\n",
       "      <td>0</td>\n",
       "      <td>0</td>\n",
       "      <td>62.733526</td>\n",
       "      <td>3.0</td>\n",
       "      <td>65.2</td>\n",
       "      <td>64.357143</td>\n",
       "      <td>63.428571</td>\n",
       "      <td>59.221367</td>\n",
       "      <td>40.692805</td>\n",
       "      <td>38.885597</td>\n",
       "      <td>7.51</td>\n",
       "      <td>9.682143</td>\n",
       "      <td>10.2</td>\n",
       "      <td>0.15</td>\n",
       "      <td>0.069286</td>\n",
       "      <td>0.055357</td>\n",
       "      <td>22</td>\n",
       "      <td>53760</td>\n",
       "    </tr>\n",
       "    <tr>\n",
       "      <th>4</th>\n",
       "      <td>2007-05-29</td>\n",
       "      <td>CULEX PIPIENS/RESTUANS</td>\n",
       "      <td>0</td>\n",
       "      <td>T050</td>\n",
       "      <td>41.919343</td>\n",
       "      <td>-87.694259</td>\n",
       "      <td>2.0</td>\n",
       "      <td>88</td>\n",
       "      <td>62</td>\n",
       "      <td>75</td>\n",
       "      <td>11</td>\n",
       "      <td>58</td>\n",
       "      <td>65</td>\n",
       "      <td>0</td>\n",
       "      <td>10</td>\n",
       "      <td>15660</td>\n",
       "      <td>69420</td>\n",
       "      <td>0.0</td>\n",
       "      <td>29.42</td>\n",
       "      <td>30.1</td>\n",
       "      <td>5.8</td>\n",
       "      <td>17</td>\n",
       "      <td>6.95</td>\n",
       "      <td>0</td>\n",
       "      <td>1</td>\n",
       "      <td>0</td>\n",
       "      <td>0</td>\n",
       "      <td>0</td>\n",
       "      <td>0</td>\n",
       "      <td>0</td>\n",
       "      <td>0</td>\n",
       "      <td>0</td>\n",
       "      <td>1</td>\n",
       "      <td>0</td>\n",
       "      <td>0</td>\n",
       "      <td>0</td>\n",
       "      <td>0</td>\n",
       "      <td>62.733526</td>\n",
       "      <td>3.0</td>\n",
       "      <td>65.2</td>\n",
       "      <td>64.357143</td>\n",
       "      <td>63.428571</td>\n",
       "      <td>59.221367</td>\n",
       "      <td>40.692805</td>\n",
       "      <td>38.885597</td>\n",
       "      <td>7.51</td>\n",
       "      <td>9.682143</td>\n",
       "      <td>10.2</td>\n",
       "      <td>0.15</td>\n",
       "      <td>0.069286</td>\n",
       "      <td>0.055357</td>\n",
       "      <td>22</td>\n",
       "      <td>53760</td>\n",
       "    </tr>\n",
       "  </tbody>\n",
       "</table>\n",
       "</div>"
      ],
      "text/plain": [
       "         date                 species  wnvpresent  trap   latitude  longitude  \\\n",
       "0  2007-05-29           CULEX PIPIENS           0  T096  41.731922 -87.677512   \n",
       "1  2007-05-29  CULEX PIPIENS/RESTUANS           0  T086  41.688324 -87.676709   \n",
       "2  2007-05-29  CULEX PIPIENS/RESTUANS           0  T048  41.867108 -87.654224   \n",
       "3  2007-05-29  CULEX PIPIENS/RESTUANS           0  T129  41.891126 -87.611560   \n",
       "4  2007-05-29  CULEX PIPIENS/RESTUANS           0  T050  41.919343 -87.694259   \n",
       "\n",
       "   species_ord  tmax  tmin  tavg  depart  dewpoint  wetbulb  heat  cool  \\\n",
       "0          2.0    88    62    75      11        58       65     0    10   \n",
       "1          2.0    88    62    75      11        58       65     0    10   \n",
       "2          2.0    88    62    75      11        58       65     0    10   \n",
       "3          2.0    88    62    75      11        58       65     0    10   \n",
       "4          2.0    88    62    75      11        58       65     0    10   \n",
       "\n",
       "   sunrise  sunset  preciptotal  stnpressure  sealevel  resultspeed  \\\n",
       "0    15660   69420          0.0        29.42      30.1          5.8   \n",
       "1    15660   69420          0.0        29.42      30.1          5.8   \n",
       "2    15660   69420          0.0        29.42      30.1          5.8   \n",
       "3    15660   69420          0.0        29.42      30.1          5.8   \n",
       "4    15660   69420          0.0        29.42      30.1          5.8   \n",
       "\n",
       "   resultdir  avgspeed  BC  HZ  DZ  VC  SQ  TS  RA  GR  MI  BR  FU  FG+  FG  \\\n",
       "0         17      6.95   0   1   0   0   0   0   0   0   0   1   0    0   0   \n",
       "1         17      6.95   0   1   0   0   0   0   0   0   0   1   0    0   0   \n",
       "2         17      6.95   0   1   0   0   0   0   0   0   0   1   0    0   0   \n",
       "3         17      6.95   0   1   0   0   0   0   0   0   0   1   0    0   0   \n",
       "4         17      6.95   0   1   0   0   0   0   0   0   0   1   0    0   0   \n",
       "\n",
       "   SN  rel_humid  tavg_change  tavg_lag5  tavg_lag14  tavg_lag28  \\\n",
       "0   0  62.733526          3.0       65.2   64.357143   63.428571   \n",
       "1   0  62.733526          3.0       65.2   64.357143   63.428571   \n",
       "2   0  62.733526          3.0       65.2   64.357143   63.428571   \n",
       "3   0  62.733526          3.0       65.2   64.357143   63.428571   \n",
       "4   0  62.733526          3.0       65.2   64.357143   63.428571   \n",
       "\n",
       "   rel_humid_lag5  rel_humid_lag14  rel_humid_lag28  avgspeed_lag5  \\\n",
       "0       59.221367        40.692805        38.885597           7.51   \n",
       "1       59.221367        40.692805        38.885597           7.51   \n",
       "2       59.221367        40.692805        38.885597           7.51   \n",
       "3       59.221367        40.692805        38.885597           7.51   \n",
       "4       59.221367        40.692805        38.885597           7.51   \n",
       "\n",
       "   avgspeed_lag14  avgspeed_lag28  preciptotal_lag5  preciptotal_lag14  \\\n",
       "0        9.682143            10.2              0.15           0.069286   \n",
       "1        9.682143            10.2              0.15           0.069286   \n",
       "2        9.682143            10.2              0.15           0.069286   \n",
       "3        9.682143            10.2              0.15           0.069286   \n",
       "4        9.682143            10.2              0.15           0.069286   \n",
       "\n",
       "   preciptotal_lag28  week_number  total_sunlight_time  \n",
       "0           0.055357           22                53760  \n",
       "1           0.055357           22                53760  \n",
       "2           0.055357           22                53760  \n",
       "3           0.055357           22                53760  \n",
       "4           0.055357           22                53760  "
      ]
     },
     "execution_count": 8,
     "metadata": {},
     "output_type": "execute_result"
    }
   ],
   "source": [
    "pd.set_option('display.max_columns', 500)\n",
    "combined.head()"
   ]
  },
  {
   "cell_type": "code",
   "execution_count": 9,
   "metadata": {},
   "outputs": [],
   "source": [
    "combined.drop(columns=['date','trap','species'], inplace=True)\n",
    "combined = combined.drop_duplicates()  #<------ Remove duplicates because species_ord - same"
   ]
  },
  {
   "cell_type": "code",
   "execution_count": 10,
   "metadata": {},
   "outputs": [
    {
     "data": {
      "text/html": [
       "<div>\n",
       "<style scoped>\n",
       "    .dataframe tbody tr th:only-of-type {\n",
       "        vertical-align: middle;\n",
       "    }\n",
       "\n",
       "    .dataframe tbody tr th {\n",
       "        vertical-align: top;\n",
       "    }\n",
       "\n",
       "    .dataframe thead th {\n",
       "        text-align: right;\n",
       "    }\n",
       "</style>\n",
       "<table border=\"1\" class=\"dataframe\">\n",
       "  <thead>\n",
       "    <tr style=\"text-align: right;\">\n",
       "      <th></th>\n",
       "      <th>wnvpresent</th>\n",
       "      <th>latitude</th>\n",
       "      <th>longitude</th>\n",
       "      <th>species_ord</th>\n",
       "      <th>tmax</th>\n",
       "      <th>tmin</th>\n",
       "      <th>tavg</th>\n",
       "      <th>depart</th>\n",
       "      <th>dewpoint</th>\n",
       "      <th>wetbulb</th>\n",
       "      <th>heat</th>\n",
       "      <th>cool</th>\n",
       "      <th>sunrise</th>\n",
       "      <th>sunset</th>\n",
       "      <th>preciptotal</th>\n",
       "      <th>stnpressure</th>\n",
       "      <th>sealevel</th>\n",
       "      <th>resultspeed</th>\n",
       "      <th>resultdir</th>\n",
       "      <th>avgspeed</th>\n",
       "      <th>BC</th>\n",
       "      <th>HZ</th>\n",
       "      <th>DZ</th>\n",
       "      <th>VC</th>\n",
       "      <th>SQ</th>\n",
       "      <th>TS</th>\n",
       "      <th>RA</th>\n",
       "      <th>GR</th>\n",
       "      <th>MI</th>\n",
       "      <th>BR</th>\n",
       "      <th>FU</th>\n",
       "      <th>FG+</th>\n",
       "      <th>FG</th>\n",
       "      <th>SN</th>\n",
       "      <th>rel_humid</th>\n",
       "      <th>tavg_change</th>\n",
       "      <th>tavg_lag5</th>\n",
       "      <th>tavg_lag14</th>\n",
       "      <th>tavg_lag28</th>\n",
       "      <th>rel_humid_lag5</th>\n",
       "      <th>rel_humid_lag14</th>\n",
       "      <th>rel_humid_lag28</th>\n",
       "      <th>avgspeed_lag5</th>\n",
       "      <th>avgspeed_lag14</th>\n",
       "      <th>avgspeed_lag28</th>\n",
       "      <th>preciptotal_lag5</th>\n",
       "      <th>preciptotal_lag14</th>\n",
       "      <th>preciptotal_lag28</th>\n",
       "      <th>week_number</th>\n",
       "      <th>total_sunlight_time</th>\n",
       "    </tr>\n",
       "  </thead>\n",
       "  <tbody>\n",
       "    <tr>\n",
       "      <th>0</th>\n",
       "      <td>0</td>\n",
       "      <td>41.731922</td>\n",
       "      <td>-87.677512</td>\n",
       "      <td>2.0</td>\n",
       "      <td>88</td>\n",
       "      <td>62</td>\n",
       "      <td>75</td>\n",
       "      <td>11</td>\n",
       "      <td>58</td>\n",
       "      <td>65</td>\n",
       "      <td>0</td>\n",
       "      <td>10</td>\n",
       "      <td>15660</td>\n",
       "      <td>69420</td>\n",
       "      <td>0.0</td>\n",
       "      <td>29.42</td>\n",
       "      <td>30.1</td>\n",
       "      <td>5.8</td>\n",
       "      <td>17</td>\n",
       "      <td>6.95</td>\n",
       "      <td>0</td>\n",
       "      <td>1</td>\n",
       "      <td>0</td>\n",
       "      <td>0</td>\n",
       "      <td>0</td>\n",
       "      <td>0</td>\n",
       "      <td>0</td>\n",
       "      <td>0</td>\n",
       "      <td>0</td>\n",
       "      <td>1</td>\n",
       "      <td>0</td>\n",
       "      <td>0</td>\n",
       "      <td>0</td>\n",
       "      <td>0</td>\n",
       "      <td>62.733526</td>\n",
       "      <td>3.0</td>\n",
       "      <td>65.2</td>\n",
       "      <td>64.357143</td>\n",
       "      <td>63.428571</td>\n",
       "      <td>59.221367</td>\n",
       "      <td>40.692805</td>\n",
       "      <td>38.885597</td>\n",
       "      <td>7.51</td>\n",
       "      <td>9.682143</td>\n",
       "      <td>10.2</td>\n",
       "      <td>0.15</td>\n",
       "      <td>0.069286</td>\n",
       "      <td>0.055357</td>\n",
       "      <td>22</td>\n",
       "      <td>53760</td>\n",
       "    </tr>\n",
       "    <tr>\n",
       "      <th>1</th>\n",
       "      <td>0</td>\n",
       "      <td>41.688324</td>\n",
       "      <td>-87.676709</td>\n",
       "      <td>2.0</td>\n",
       "      <td>88</td>\n",
       "      <td>62</td>\n",
       "      <td>75</td>\n",
       "      <td>11</td>\n",
       "      <td>58</td>\n",
       "      <td>65</td>\n",
       "      <td>0</td>\n",
       "      <td>10</td>\n",
       "      <td>15660</td>\n",
       "      <td>69420</td>\n",
       "      <td>0.0</td>\n",
       "      <td>29.42</td>\n",
       "      <td>30.1</td>\n",
       "      <td>5.8</td>\n",
       "      <td>17</td>\n",
       "      <td>6.95</td>\n",
       "      <td>0</td>\n",
       "      <td>1</td>\n",
       "      <td>0</td>\n",
       "      <td>0</td>\n",
       "      <td>0</td>\n",
       "      <td>0</td>\n",
       "      <td>0</td>\n",
       "      <td>0</td>\n",
       "      <td>0</td>\n",
       "      <td>1</td>\n",
       "      <td>0</td>\n",
       "      <td>0</td>\n",
       "      <td>0</td>\n",
       "      <td>0</td>\n",
       "      <td>62.733526</td>\n",
       "      <td>3.0</td>\n",
       "      <td>65.2</td>\n",
       "      <td>64.357143</td>\n",
       "      <td>63.428571</td>\n",
       "      <td>59.221367</td>\n",
       "      <td>40.692805</td>\n",
       "      <td>38.885597</td>\n",
       "      <td>7.51</td>\n",
       "      <td>9.682143</td>\n",
       "      <td>10.2</td>\n",
       "      <td>0.15</td>\n",
       "      <td>0.069286</td>\n",
       "      <td>0.055357</td>\n",
       "      <td>22</td>\n",
       "      <td>53760</td>\n",
       "    </tr>\n",
       "    <tr>\n",
       "      <th>2</th>\n",
       "      <td>0</td>\n",
       "      <td>41.867108</td>\n",
       "      <td>-87.654224</td>\n",
       "      <td>2.0</td>\n",
       "      <td>88</td>\n",
       "      <td>62</td>\n",
       "      <td>75</td>\n",
       "      <td>11</td>\n",
       "      <td>58</td>\n",
       "      <td>65</td>\n",
       "      <td>0</td>\n",
       "      <td>10</td>\n",
       "      <td>15660</td>\n",
       "      <td>69420</td>\n",
       "      <td>0.0</td>\n",
       "      <td>29.42</td>\n",
       "      <td>30.1</td>\n",
       "      <td>5.8</td>\n",
       "      <td>17</td>\n",
       "      <td>6.95</td>\n",
       "      <td>0</td>\n",
       "      <td>1</td>\n",
       "      <td>0</td>\n",
       "      <td>0</td>\n",
       "      <td>0</td>\n",
       "      <td>0</td>\n",
       "      <td>0</td>\n",
       "      <td>0</td>\n",
       "      <td>0</td>\n",
       "      <td>1</td>\n",
       "      <td>0</td>\n",
       "      <td>0</td>\n",
       "      <td>0</td>\n",
       "      <td>0</td>\n",
       "      <td>62.733526</td>\n",
       "      <td>3.0</td>\n",
       "      <td>65.2</td>\n",
       "      <td>64.357143</td>\n",
       "      <td>63.428571</td>\n",
       "      <td>59.221367</td>\n",
       "      <td>40.692805</td>\n",
       "      <td>38.885597</td>\n",
       "      <td>7.51</td>\n",
       "      <td>9.682143</td>\n",
       "      <td>10.2</td>\n",
       "      <td>0.15</td>\n",
       "      <td>0.069286</td>\n",
       "      <td>0.055357</td>\n",
       "      <td>22</td>\n",
       "      <td>53760</td>\n",
       "    </tr>\n",
       "    <tr>\n",
       "      <th>3</th>\n",
       "      <td>0</td>\n",
       "      <td>41.891126</td>\n",
       "      <td>-87.611560</td>\n",
       "      <td>2.0</td>\n",
       "      <td>88</td>\n",
       "      <td>62</td>\n",
       "      <td>75</td>\n",
       "      <td>11</td>\n",
       "      <td>58</td>\n",
       "      <td>65</td>\n",
       "      <td>0</td>\n",
       "      <td>10</td>\n",
       "      <td>15660</td>\n",
       "      <td>69420</td>\n",
       "      <td>0.0</td>\n",
       "      <td>29.42</td>\n",
       "      <td>30.1</td>\n",
       "      <td>5.8</td>\n",
       "      <td>17</td>\n",
       "      <td>6.95</td>\n",
       "      <td>0</td>\n",
       "      <td>1</td>\n",
       "      <td>0</td>\n",
       "      <td>0</td>\n",
       "      <td>0</td>\n",
       "      <td>0</td>\n",
       "      <td>0</td>\n",
       "      <td>0</td>\n",
       "      <td>0</td>\n",
       "      <td>1</td>\n",
       "      <td>0</td>\n",
       "      <td>0</td>\n",
       "      <td>0</td>\n",
       "      <td>0</td>\n",
       "      <td>62.733526</td>\n",
       "      <td>3.0</td>\n",
       "      <td>65.2</td>\n",
       "      <td>64.357143</td>\n",
       "      <td>63.428571</td>\n",
       "      <td>59.221367</td>\n",
       "      <td>40.692805</td>\n",
       "      <td>38.885597</td>\n",
       "      <td>7.51</td>\n",
       "      <td>9.682143</td>\n",
       "      <td>10.2</td>\n",
       "      <td>0.15</td>\n",
       "      <td>0.069286</td>\n",
       "      <td>0.055357</td>\n",
       "      <td>22</td>\n",
       "      <td>53760</td>\n",
       "    </tr>\n",
       "    <tr>\n",
       "      <th>4</th>\n",
       "      <td>0</td>\n",
       "      <td>41.919343</td>\n",
       "      <td>-87.694259</td>\n",
       "      <td>2.0</td>\n",
       "      <td>88</td>\n",
       "      <td>62</td>\n",
       "      <td>75</td>\n",
       "      <td>11</td>\n",
       "      <td>58</td>\n",
       "      <td>65</td>\n",
       "      <td>0</td>\n",
       "      <td>10</td>\n",
       "      <td>15660</td>\n",
       "      <td>69420</td>\n",
       "      <td>0.0</td>\n",
       "      <td>29.42</td>\n",
       "      <td>30.1</td>\n",
       "      <td>5.8</td>\n",
       "      <td>17</td>\n",
       "      <td>6.95</td>\n",
       "      <td>0</td>\n",
       "      <td>1</td>\n",
       "      <td>0</td>\n",
       "      <td>0</td>\n",
       "      <td>0</td>\n",
       "      <td>0</td>\n",
       "      <td>0</td>\n",
       "      <td>0</td>\n",
       "      <td>0</td>\n",
       "      <td>1</td>\n",
       "      <td>0</td>\n",
       "      <td>0</td>\n",
       "      <td>0</td>\n",
       "      <td>0</td>\n",
       "      <td>62.733526</td>\n",
       "      <td>3.0</td>\n",
       "      <td>65.2</td>\n",
       "      <td>64.357143</td>\n",
       "      <td>63.428571</td>\n",
       "      <td>59.221367</td>\n",
       "      <td>40.692805</td>\n",
       "      <td>38.885597</td>\n",
       "      <td>7.51</td>\n",
       "      <td>9.682143</td>\n",
       "      <td>10.2</td>\n",
       "      <td>0.15</td>\n",
       "      <td>0.069286</td>\n",
       "      <td>0.055357</td>\n",
       "      <td>22</td>\n",
       "      <td>53760</td>\n",
       "    </tr>\n",
       "  </tbody>\n",
       "</table>\n",
       "</div>"
      ],
      "text/plain": [
       "   wnvpresent   latitude  longitude  species_ord  tmax  tmin  tavg  depart  \\\n",
       "0           0  41.731922 -87.677512          2.0    88    62    75      11   \n",
       "1           0  41.688324 -87.676709          2.0    88    62    75      11   \n",
       "2           0  41.867108 -87.654224          2.0    88    62    75      11   \n",
       "3           0  41.891126 -87.611560          2.0    88    62    75      11   \n",
       "4           0  41.919343 -87.694259          2.0    88    62    75      11   \n",
       "\n",
       "   dewpoint  wetbulb  heat  cool  sunrise  sunset  preciptotal  stnpressure  \\\n",
       "0        58       65     0    10    15660   69420          0.0        29.42   \n",
       "1        58       65     0    10    15660   69420          0.0        29.42   \n",
       "2        58       65     0    10    15660   69420          0.0        29.42   \n",
       "3        58       65     0    10    15660   69420          0.0        29.42   \n",
       "4        58       65     0    10    15660   69420          0.0        29.42   \n",
       "\n",
       "   sealevel  resultspeed  resultdir  avgspeed  BC  HZ  DZ  VC  SQ  TS  RA  GR  \\\n",
       "0      30.1          5.8         17      6.95   0   1   0   0   0   0   0   0   \n",
       "1      30.1          5.8         17      6.95   0   1   0   0   0   0   0   0   \n",
       "2      30.1          5.8         17      6.95   0   1   0   0   0   0   0   0   \n",
       "3      30.1          5.8         17      6.95   0   1   0   0   0   0   0   0   \n",
       "4      30.1          5.8         17      6.95   0   1   0   0   0   0   0   0   \n",
       "\n",
       "   MI  BR  FU  FG+  FG  SN  rel_humid  tavg_change  tavg_lag5  tavg_lag14  \\\n",
       "0   0   1   0    0   0   0  62.733526          3.0       65.2   64.357143   \n",
       "1   0   1   0    0   0   0  62.733526          3.0       65.2   64.357143   \n",
       "2   0   1   0    0   0   0  62.733526          3.0       65.2   64.357143   \n",
       "3   0   1   0    0   0   0  62.733526          3.0       65.2   64.357143   \n",
       "4   0   1   0    0   0   0  62.733526          3.0       65.2   64.357143   \n",
       "\n",
       "   tavg_lag28  rel_humid_lag5  rel_humid_lag14  rel_humid_lag28  \\\n",
       "0   63.428571       59.221367        40.692805        38.885597   \n",
       "1   63.428571       59.221367        40.692805        38.885597   \n",
       "2   63.428571       59.221367        40.692805        38.885597   \n",
       "3   63.428571       59.221367        40.692805        38.885597   \n",
       "4   63.428571       59.221367        40.692805        38.885597   \n",
       "\n",
       "   avgspeed_lag5  avgspeed_lag14  avgspeed_lag28  preciptotal_lag5  \\\n",
       "0           7.51        9.682143            10.2              0.15   \n",
       "1           7.51        9.682143            10.2              0.15   \n",
       "2           7.51        9.682143            10.2              0.15   \n",
       "3           7.51        9.682143            10.2              0.15   \n",
       "4           7.51        9.682143            10.2              0.15   \n",
       "\n",
       "   preciptotal_lag14  preciptotal_lag28  week_number  total_sunlight_time  \n",
       "0           0.069286           0.055357           22                53760  \n",
       "1           0.069286           0.055357           22                53760  \n",
       "2           0.069286           0.055357           22                53760  \n",
       "3           0.069286           0.055357           22                53760  \n",
       "4           0.069286           0.055357           22                53760  "
      ]
     },
     "execution_count": 10,
     "metadata": {},
     "output_type": "execute_result"
    }
   ],
   "source": [
    "combined.head()"
   ]
  },
  {
   "cell_type": "code",
   "execution_count": 11,
   "metadata": {},
   "outputs": [],
   "source": [
    "# Set y to be the quality column.\n",
    "y = combined['wnvpresent']\n",
    "# Set X as all other columns.\n",
    "X = combined.drop(columns='wnvpresent')\n",
    "\n",
    "\n",
    "# To show off the strength of PCA, we're going to make many, many more features.\n",
    "pf = PolynomialFeatures(degree=2)\n",
    "# Fit and transform our X data using Polynomial Features.\n",
    "X_new = pf.fit_transform(X)\n",
    "\n",
    "\n",
    "# Train/test split our data.\n",
    "X_train, X_test, y_train, y_test = train_test_split(X_new,\n",
    "                                                    y,\n",
    "                                                    stratify = y,\n",
    "                                                    test_size = 0.30,\n",
    "                                                    random_state = 42)\n",
    "\n",
    "# Instantiate our StandardScaler.\n",
    "ss = StandardScaler()\n",
    "# Scale X_train.\n",
    "X_train = ss.fit_transform(X_train)\n",
    "# Scale X_test.\n",
    "X_test = ss.transform(X_test)\n",
    "\n",
    "\n",
    "# Instantiate PCA.\n",
    "pca = PCA()\n",
    "# Fit PCA on the training data.\n",
    "pca.fit(X_train)\n",
    "# Transform PCA on the training data.\n",
    "Z_train = pca.transform(X_train)\n",
    "# Don't forget to transform the test data!\n",
    "Z_test = pca.transform(X_test)\n",
    "\n"
   ]
  },
  {
   "cell_type": "code",
   "execution_count": 12,
   "metadata": {},
   "outputs": [
    {
     "data": {
      "text/plain": [
       "(4930, 1275)"
      ]
     },
     "execution_count": 12,
     "metadata": {},
     "output_type": "execute_result"
    }
   ],
   "source": [
    "Z_train.shape"
   ]
  },
  {
   "cell_type": "code",
   "execution_count": 13,
   "metadata": {},
   "outputs": [
    {
     "name": "stdout",
     "output_type": "stream",
     "text": [
      "Explained variance (first 50 components): [0.256 0.118 0.093 0.073 0.058 0.045 0.041 0.039 0.032 0.027 0.025 0.023\n",
      " 0.021 0.017 0.017 0.012 0.011 0.011 0.008 0.007 0.006 0.005 0.005 0.005\n",
      " 0.004 0.003 0.003 0.003 0.002 0.002 0.002 0.002 0.002 0.002 0.002 0.001\n",
      " 0.001 0.001 0.001 0.001 0.001 0.001 0.001 0.001 0.001 0.    0.    0.\n",
      " 0.    0.   ]\n",
      "\n",
      "Cumulative explained variance (first 50 components): [0.256 0.374 0.467 0.54  0.597 0.643 0.684 0.723 0.754 0.781 0.806 0.829\n",
      " 0.85  0.867 0.884 0.896 0.908 0.918 0.927 0.934 0.94  0.946 0.951 0.955\n",
      " 0.959 0.963 0.966 0.969 0.971 0.974 0.976 0.978 0.979 0.981 0.983 0.984\n",
      " 0.985 0.986 0.987 0.988 0.989 0.99  0.991 0.991 0.992 0.993 0.993 0.993\n",
      " 0.994 0.994]\n"
     ]
    }
   ],
   "source": [
    "# Pull the explained variance attribute.\n",
    "var_exp = pca.explained_variance_ratio_\n",
    "print(f'Explained variance (first 50 components): {np.round(var_exp[:50],3)}')\n",
    "\n",
    "print('')\n",
    "\n",
    "# Generate the cumulative explained variance.\n",
    "cum_var_exp = np.cumsum(var_exp)\n",
    "print(f'Cumulative explained variance (first 50 components): {np.round(cum_var_exp[:50],3)}')"
   ]
  },
  {
   "cell_type": "code",
   "execution_count": 14,
   "metadata": {},
   "outputs": [
    {
     "data": {
      "image/png": "[encoded data removed]",
      "text/plain": [
       "<Figure size 864x576 with 1 Axes>"
      ]
     },
     "metadata": {
      "needs_background": "light"
     },
     "output_type": "display_data"
    }
   ],
   "source": [
    "# Plot the variance explained (and cumulative variance explained).\n",
    "\n",
    "# Set figure size.\n",
    "plt.figure(figsize=(12,8))\n",
    "\n",
    "# Plot the explained variance.\n",
    "plt.plot(range(len(var_exp)), var_exp, lw=3, label = 'Variance Explained')\n",
    "\n",
    "# Plot the cumulative explained variance.\n",
    "plt.plot(range(len(var_exp)), cum_var_exp, lw=3, color = 'orange', label = 'Cumulative Variance Explained')\n",
    "\n",
    "# Add horizontal lines at y=0 and y=1.\n",
    "plt.axhline(y=0, linewidth=1, color='grey', ls='dashed')\n",
    "plt.axhline(y=1, linewidth=1, color='grey', ls='dashed')\n",
    "\n",
    "# Set the limits of the axes.\n",
    "plt.xlim([-1,31])\n",
    "plt.ylim([-0.01,1.01])\n",
    "\n",
    "# Label the axes.\n",
    "plt.ylabel('Variance Explained', fontsize=20)\n",
    "plt.xlabel('Principal Component', fontsize=20)\n",
    "\n",
    "# Make the tick labels bigger\n",
    "plt.xticks(range(0, 31, 5), range(1, 32, 5), fontsize=12)\n",
    "plt.yticks(fontsize=12)\n",
    "    \n",
    "# Add title and legend.\n",
    "plt.title('Component vs. Variance Explained', fontsize=24)\n",
    "plt.legend(fontsize=11);"
   ]
  },
  {
   "cell_type": "code",
   "execution_count": 15,
   "metadata": {},
   "outputs": [],
   "source": [
    "# Go for 50?"
   ]
  },
  {
   "cell_type": "markdown",
   "metadata": {},
   "source": [
    "Try 10 models for each feature set\n",
    " - SVC\n",
    " - Log reg\n",
    " - Gradient boost"
   ]
  },
  {
   "cell_type": "markdown",
   "metadata": {},
   "source": [
    "<u>**BASELINE**</u>\n",
    "\n",
    "1. Assume all '0' - 94.755%\n",
    "2. Simple lag mode - 94.746%"
   ]
  },
  {
   "cell_type": "markdown",
   "metadata": {},
   "source": [
    "Training Score: 0.9476  \n",
    "Testing Score: 0.9475  \n",
    "F1 Score: 0.0  \n",
    "ROC_AUC Score: 0.63"
   ]
  },
  {
   "cell_type": "code",
   "execution_count": 16,
   "metadata": {},
   "outputs": [],
   "source": [
    "from sklearn.metrics import f1_score\n",
    "from sklearn.metrics import roc_auc_score"
   ]
  },
  {
   "cell_type": "code",
   "execution_count": 17,
   "metadata": {},
   "outputs": [],
   "source": [
    "# Instantiate PCA.\n",
    "pca = PCA(n_components=50)\n",
    "# Fit PCA on the training data.\n",
    "pca.fit(X_train)\n",
    "# Transform PCA on the training data.\n",
    "Z_train = pca.transform(X_train)\n",
    "# Don't forget to transform the test data!\n",
    "Z_test = pca.transform(X_test)"
   ]
  },
  {
   "cell_type": "code",
   "execution_count": 56,
   "metadata": {},
   "outputs": [
    {
     "name": "stdout",
     "output_type": "stream",
     "text": [
      "Training Score: 0.9422\n",
      "Testing Score: 0.9418\n",
      "F1 Score: 0.0465\n",
      "ROC_AUC Score: 0.8573\n"
     ]
    }
   ],
   "source": [
    "# Instantiate linear regression model.\n",
    "logreg = LogisticRegression(max_iter=5000, solver='lbfgs')\n",
    "\n",
    "# Fit on Z_train.\n",
    "logreg.fit(Z_train,y_train)\n",
    "\n",
    "# Score on training and testing sets.\n",
    "print(f'Training Score: {round(logreg.score(Z_train, y_train),4)}')\n",
    "print(f'Testing Score: {round(logreg.score(Z_test, y_test),4)}')\n",
    "\n",
    "preds = logreg.predict(Z_test)\n",
    "preds_proba = logreg.predict_proba(Z_test)[:,1]\n",
    "\n",
    "print(f'F1 Score: {round(f1_score(y_test, preds),4)}')\n",
    "print(f'ROC_AUC Score: {round(roc_auc_score(y_test, preds_proba),4)}')"
   ]
  },
  {
   "cell_type": "code",
   "execution_count": null,
   "metadata": {},
   "outputs": [],
   "source": []
  },
  {
   "cell_type": "code",
   "execution_count": 19,
   "metadata": {},
   "outputs": [
    {
     "name": "stdout",
     "output_type": "stream",
     "text": [
      "Training Score: 0.9432\n",
      "Testing Score: 0.9413\n",
      "F1 Score: 0.0\n",
      "ROC_AUC Score: 0.8405\n"
     ]
    }
   ],
   "source": [
    "ada = AdaBoostClassifier()\n",
    "\n",
    "ada.fit(Z_train,y_train)\n",
    "\n",
    "# Score on training and testing sets.\n",
    "print(f'Training Score: {round(ada.score(Z_train, y_train),4)}')\n",
    "print(f'Testing Score: {round(ada.score(Z_test, y_test),4)}')\n",
    "\n",
    "preds = ada.predict(Z_test)\n",
    "preds_proba = ada.predict_proba(Z_test)[:,1]\n",
    "\n",
    "print(f'F1 Score: {round(f1_score(y_test, preds),4)}')\n",
    "print(f'ROC_AUC Score: {round(roc_auc_score(y_test, preds_proba),4)}')"
   ]
  },
  {
   "cell_type": "code",
   "execution_count": 20,
   "metadata": {},
   "outputs": [
    {
     "name": "stdout",
     "output_type": "stream",
     "text": [
      "Training Score: 0.9487\n",
      "Testing Score: 0.9375\n",
      "F1 Score: 0.0704\n",
      "ROC_AUC Score: 0.8524\n"
     ]
    }
   ],
   "source": [
    "gb = GradientBoostingClassifier()\n",
    "\n",
    "gb.fit(Z_train,y_train)\n",
    "\n",
    "# Score on training and testing sets.\n",
    "print(f'Training Score: {round(gb.score(Z_train, y_train),4)}')\n",
    "print(f'Testing Score: {round(gb.score(Z_test, y_test),4)}')\n",
    "\n",
    "preds = gb.predict(Z_test)\n",
    "preds_proba = gb.predict_proba(Z_test)[:,1]\n",
    "\n",
    "print(f'F1 Score: {round(f1_score(y_test, preds),4)}')\n",
    "print(f'ROC_AUC Score: {round(roc_auc_score(y_test, preds_proba),4)}')"
   ]
  },
  {
   "cell_type": "code",
   "execution_count": 21,
   "metadata": {},
   "outputs": [
    {
     "name": "stdout",
     "output_type": "stream",
     "text": [
      "Training Score: 0.9428\n",
      "Testing Score: 0.9418\n",
      "F1 Score: 0.016\n",
      "ROC_AUC Score: 0.5036\n"
     ]
    }
   ],
   "source": [
    "clf = SVC(C=1, probability=True)\n",
    "\n",
    "clf.fit(Z_train,y_train)\n",
    "\n",
    "# Score on training and testing sets.\n",
    "print(f'Training Score: {round(clf.score(Z_train, y_train),4)}')\n",
    "print(f'Testing Score: {round(clf.score(Z_test, y_test),4)}')\n",
    "\n",
    "preds = clf.predict(Z_test)\n",
    "preds_proba = clf.predict_proba(Z_test)\n",
    "\n",
    "print(f'F1 Score: {round(f1_score(y_test, preds),4)}')\n",
    "print(f'ROC_AUC Score: {round(roc_auc_score(y_test, preds),4)}')"
   ]
  },
  {
   "cell_type": "code",
   "execution_count": 22,
   "metadata": {},
   "outputs": [],
   "source": [
    "pd.set_option('display.max_colwidth', None)\n"
   ]
  },
  {
   "cell_type": "code",
   "execution_count": null,
   "metadata": {},
   "outputs": [],
   "source": []
  },
  {
   "cell_type": "markdown",
   "metadata": {},
   "source": [
    "# GS"
   ]
  },
  {
   "cell_type": "code",
   "execution_count": 23,
   "metadata": {},
   "outputs": [],
   "source": [
    "gb = GradientBoostingClassifier()\n",
    "\n",
    "params = {\n",
    "    'n_estimators': [1,2,10],\n",
    "    'max_depth': [2,3,4],\n",
    "    'learning_rate': [0.1,0.2]\n",
    "}\n",
    "\n",
    "gs = GridSearchCV(gb, # what object are we optimizing?\n",
    "                  params, # what parameters values are we searching?\n",
    "                  cv=3) # 3-fold cross-validation."
   ]
  },
  {
   "cell_type": "code",
   "execution_count": 24,
   "metadata": {},
   "outputs": [
    {
     "data": {
      "text/plain": [
       "GridSearchCV(cv=3, estimator=GradientBoostingClassifier(),\n",
       "             param_grid={'learning_rate': [0.1, 0.2], 'max_depth': [2, 3, 4],\n",
       "                         'n_estimators': [1, 2, 10]})"
      ]
     },
     "execution_count": 24,
     "metadata": {},
     "output_type": "execute_result"
    }
   ],
   "source": [
    "gs.fit(Z_train,y_train)"
   ]
  },
  {
   "cell_type": "code",
   "execution_count": 25,
   "metadata": {},
   "outputs": [
    {
     "data": {
      "text/plain": [
       "{'learning_rate': 0.1, 'max_depth': 2, 'n_estimators': 1}"
      ]
     },
     "execution_count": 25,
     "metadata": {},
     "output_type": "execute_result"
    }
   ],
   "source": [
    "gs.best_params_"
   ]
  },
  {
   "cell_type": "code",
   "execution_count": 26,
   "metadata": {},
   "outputs": [
    {
     "data": {
      "text/plain": [
       "0.942262186464742"
      ]
     },
     "execution_count": 26,
     "metadata": {},
     "output_type": "execute_result"
    }
   ],
   "source": [
    "gs.score(Z_test,y_test)"
   ]
  },
  {
   "cell_type": "markdown",
   "metadata": {},
   "source": [
    "# GS - All Model"
   ]
  },
  {
   "cell_type": "code",
   "execution_count": 27,
   "metadata": {},
   "outputs": [],
   "source": [
    "# Create DataFrame and write data in\n",
    "gscv_results = pd.DataFrame(columns=['model','best_params'])"
   ]
  },
  {
   "cell_type": "code",
   "execution_count": 28,
   "metadata": {},
   "outputs": [],
   "source": [
    "# List of pipeline steps for each model\n",
    "pipelist = [ \n",
    "    [('logreg',LogisticRegression(solver='lbfgs', max_iter=5000))],\n",
    "    [('ada',AdaBoostClassifier())],\n",
    "    [('gb',GradientBoostingClassifier())],\n",
    "    #[('svc',SVC(probability=False))],\n",
    "    ]"
   ]
  },
  {
   "cell_type": "code",
   "execution_count": 29,
   "metadata": {},
   "outputs": [],
   "source": [
    "# Name each steps to include in out model\n",
    "steps_titles = ['logreg',\n",
    "                'ada',\n",
    "                'gb',]\n",
    "                #'svc']"
   ]
  },
  {
   "cell_type": "code",
   "execution_count": 30,
   "metadata": {},
   "outputs": [],
   "source": [
    "# Set the pipeline parameters\n",
    "pipe_params = [\n",
    "    # For logreg\n",
    "    {'logreg__C': [0.1,1,10]},\n",
    "    # For AdaBoost\n",
    "    {'ada__n_estimators': [1,2,5],\n",
    "    'ada__learning_rate': [0.1,0.2]},\n",
    "    # For GB\n",
    "    {'gb__n_estimators': [1,2,5],\n",
    "    'gb__max_depth': [2,3,4],\n",
    "    'gb__learning_rate': [0.1,0.2]},\n",
    "    # For SVC\n",
    "    #{'svc__kernel': ['rbf', 'linear']}\n",
    "]"
   ]
  },
  {
   "cell_type": "code",
   "execution_count": 31,
   "metadata": {},
   "outputs": [
    {
     "name": "stderr",
     "output_type": "stream",
     "text": [
      "/opt/anaconda3/envs/tensorflowdsi/lib/python3.7/site-packages/sklearn/metrics/_classification.py:1245: UndefinedMetricWarning: Precision is ill-defined and being set to 0.0 due to no predicted samples. Use `zero_division` parameter to control this behavior.\n",
      "  _warn_prf(average, modifier, msg_start, len(result))\n",
      "/opt/anaconda3/envs/tensorflowdsi/lib/python3.7/site-packages/sklearn/metrics/_classification.py:1245: UndefinedMetricWarning: Precision is ill-defined and being set to 0.0 due to no predicted samples. Use `zero_division` parameter to control this behavior.\n",
      "  _warn_prf(average, modifier, msg_start, len(result))\n"
     ]
    }
   ],
   "source": [
    "# Loop through our GridSearch and write into our table (gscv_results)\n",
    "for i in range(len(steps_titles)):     \n",
    "    pipe = Pipeline(steps=pipelist[i]) \n",
    "    gs = GridSearchCV(pipe, pipe_params[i], cv=5) \n",
    "    \n",
    "    # Results for each model (dict)\n",
    "    model_results = {}\n",
    "\n",
    "    gs.fit(Z_train, y_train)\n",
    "    \n",
    "    # Set each value into temporary dict\n",
    "    model_results['model'] = steps_titles[i]\n",
    "    model_results['best_params'] = gs.best_params_\n",
    "    model_results['train_score'] = round(gs.score(Z_train, y_train),4)\n",
    "    model_results['test_score'] = round(gs.score(Z_test, y_test),4)\n",
    "    \n",
    "    preds = gs.predict(Z_test)\n",
    "    preds_proba = gs.predict_proba(Z_test)[:,1]\n",
    "    train_preds_proba = gs.predict_proba(Z_train)[:,1]\n",
    "    \n",
    "    #model_results['f1_score'] = round(f1_score(y_test, preds),4)\n",
    "    #model_results['roc_auc_score'] = round(roc_auc_score(y_test, preds_proba),4)\n",
    "    \n",
    "    # Generate a confusion matrix.\n",
    "    confusion_matrix(y_test, # True values.\n",
    "                 preds)  # Predicted values.\n",
    "    \n",
    "    # Get metrics\n",
    "    tn, fp, fn, tp = confusion_matrix(y_test, preds).ravel()\n",
    "    #model_results['tn'] = tn\n",
    "    #model_results['fp'] = fp\n",
    "    #model_results['fn'] = fn\n",
    "    #model_results['tp'] = tp\n",
    "    \n",
    "    model_results['Train ROC-AUC Score'] = metrics.roc_auc_score(y_train, train_preds_proba)\n",
    "    model_results['Test ROC-AUC Score'] = metrics.roc_auc_score(y_test, preds_proba)\n",
    "    model_results['F1'] = metrics.f1_score(y_test, preds)\n",
    "    model_results['Precision'] = metrics.precision_score(y_test, preds)\n",
    "    model_results['Recall'] = metrics.recall_score(y_test, preds)\n",
    "    model_results['Accuracy'] = metrics.accuracy_score(y_test, preds)\n",
    "    \n",
    "    gscv_results = gscv_results.append(model_results, ignore_index=True)"
   ]
  },
  {
   "cell_type": "code",
   "execution_count": 32,
   "metadata": {},
   "outputs": [],
   "source": [
    "#gscv_results.to_csv('../../data/mt_model_results.csv')"
   ]
  },
  {
   "cell_type": "code",
   "execution_count": 33,
   "metadata": {},
   "outputs": [],
   "source": [
    "#gscv_results = pd.read_csv('../../data/mt_model_results.csv')"
   ]
  },
  {
   "cell_type": "code",
   "execution_count": 34,
   "metadata": {},
   "outputs": [
    {
     "data": {
      "text/html": [
       "<div>\n",
       "<style scoped>\n",
       "    .dataframe tbody tr th:only-of-type {\n",
       "        vertical-align: middle;\n",
       "    }\n",
       "\n",
       "    .dataframe tbody tr th {\n",
       "        vertical-align: top;\n",
       "    }\n",
       "\n",
       "    .dataframe thead th {\n",
       "        text-align: right;\n",
       "    }\n",
       "</style>\n",
       "<table border=\"1\" class=\"dataframe\">\n",
       "  <thead>\n",
       "    <tr style=\"text-align: right;\">\n",
       "      <th></th>\n",
       "      <th>model</th>\n",
       "      <th>best_params</th>\n",
       "      <th>Accuracy</th>\n",
       "      <th>F1</th>\n",
       "      <th>Precision</th>\n",
       "      <th>Recall</th>\n",
       "      <th>Test ROC-AUC Score</th>\n",
       "      <th>Train ROC-AUC Score</th>\n",
       "      <th>test_score</th>\n",
       "      <th>train_score</th>\n",
       "    </tr>\n",
       "  </thead>\n",
       "  <tbody>\n",
       "    <tr>\n",
       "      <th>0</th>\n",
       "      <td>logreg</td>\n",
       "      <td>{'logreg__C': 1}</td>\n",
       "      <td>0.941789</td>\n",
       "      <td>0.046512</td>\n",
       "      <td>0.428571</td>\n",
       "      <td>0.02459</td>\n",
       "      <td>0.857270</td>\n",
       "      <td>0.856750</td>\n",
       "      <td>0.9418</td>\n",
       "      <td>0.9422</td>\n",
       "    </tr>\n",
       "    <tr>\n",
       "      <th>1</th>\n",
       "      <td>ada</td>\n",
       "      <td>{'ada__learning_rate': 0.1, 'ada__n_estimators': 1}</td>\n",
       "      <td>0.942262</td>\n",
       "      <td>0.000000</td>\n",
       "      <td>0.000000</td>\n",
       "      <td>0.00000</td>\n",
       "      <td>0.613297</td>\n",
       "      <td>0.575874</td>\n",
       "      <td>0.9423</td>\n",
       "      <td>0.9426</td>\n",
       "    </tr>\n",
       "    <tr>\n",
       "      <th>2</th>\n",
       "      <td>gb</td>\n",
       "      <td>{'gb__learning_rate': 0.1, 'gb__max_depth': 2, 'gb__n_estimators': 1}</td>\n",
       "      <td>0.942262</td>\n",
       "      <td>0.000000</td>\n",
       "      <td>0.000000</td>\n",
       "      <td>0.00000</td>\n",
       "      <td>0.709379</td>\n",
       "      <td>0.692264</td>\n",
       "      <td>0.9423</td>\n",
       "      <td>0.9426</td>\n",
       "    </tr>\n",
       "  </tbody>\n",
       "</table>\n",
       "</div>"
      ],
      "text/plain": [
       "    model  \\\n",
       "0  logreg   \n",
       "1     ada   \n",
       "2      gb   \n",
       "\n",
       "                                                             best_params  \\\n",
       "0                                                       {'logreg__C': 1}   \n",
       "1                    {'ada__learning_rate': 0.1, 'ada__n_estimators': 1}   \n",
       "2  {'gb__learning_rate': 0.1, 'gb__max_depth': 2, 'gb__n_estimators': 1}   \n",
       "\n",
       "   Accuracy        F1  Precision   Recall  Test ROC-AUC Score  \\\n",
       "0  0.941789  0.046512   0.428571  0.02459            0.857270   \n",
       "1  0.942262  0.000000   0.000000  0.00000            0.613297   \n",
       "2  0.942262  0.000000   0.000000  0.00000            0.709379   \n",
       "\n",
       "   Train ROC-AUC Score  test_score  train_score  \n",
       "0             0.856750      0.9418       0.9422  \n",
       "1             0.575874      0.9423       0.9426  \n",
       "2             0.692264      0.9423       0.9426  "
      ]
     },
     "execution_count": 34,
     "metadata": {},
     "output_type": "execute_result"
    }
   ],
   "source": [
    "gscv_results"
   ]
  },
  {
   "cell_type": "code",
   "execution_count": null,
   "metadata": {},
   "outputs": [],
   "source": []
  },
  {
   "cell_type": "code",
   "execution_count": null,
   "metadata": {},
   "outputs": [],
   "source": []
  },
  {
   "cell_type": "code",
   "execution_count": null,
   "metadata": {},
   "outputs": [],
   "source": []
  },
  {
   "cell_type": "code",
   "execution_count": null,
   "metadata": {},
   "outputs": [],
   "source": [
    "zz"
   ]
  },
  {
   "cell_type": "code",
   "execution_count": 117,
   "metadata": {},
   "outputs": [],
   "source": [
    "test = pd.read_csv('./prepoly_combined_test.csv')"
   ]
  },
  {
   "cell_type": "code",
   "execution_count": 118,
   "metadata": {},
   "outputs": [],
   "source": [
    "test.drop(columns=['Unnamed: 0','id'], inplace=True)"
   ]
  },
  {
   "cell_type": "code",
   "execution_count": 119,
   "metadata": {},
   "outputs": [
    {
     "data": {
      "text/plain": [
       "array([ True,  True,  True,  True,  True,  True,  True,  True,  True,\n",
       "        True,  True,  True,  True,  True,  True,  True,  True,  True,\n",
       "        True,  True,  True,  True,  True,  True,  True,  True,  True,\n",
       "        True,  True,  True,  True,  True,  True,  True,  True,  True,\n",
       "        True,  True,  True,  True,  True,  True,  True,  True,  True,\n",
       "        True,  True,  True,  True])"
      ]
     },
     "execution_count": 119,
     "metadata": {},
     "output_type": "execute_result"
    }
   ],
   "source": [
    "test.columns = X.columns\n",
    "test.columns == X.columns"
   ]
  },
  {
   "cell_type": "code",
   "execution_count": 120,
   "metadata": {},
   "outputs": [],
   "source": [
    "from imblearn.over_sampling import SMOTE\n",
    "sm = SMOTE()\n",
    "Xsm, ysm = sm.fit_resample(X, y)"
   ]
  },
  {
   "cell_type": "code",
   "execution_count": 121,
   "metadata": {},
   "outputs": [
    {
     "data": {
      "text/plain": [
       "0    6638\n",
       "1    6638\n",
       "Name: wnvpresent, dtype: int64"
      ]
     },
     "execution_count": 121,
     "metadata": {},
     "output_type": "execute_result"
    }
   ],
   "source": [
    "pd.Series(ysm).value_counts()"
   ]
  },
  {
   "cell_type": "code",
   "execution_count": 125,
   "metadata": {},
   "outputs": [],
   "source": [
    "pf = PolynomialFeatures(degree=2)\n",
    "train_new = pf.fit_transform(Xsm)\n",
    "test_new = pf.transform(test)\n",
    "\n",
    "ss = StandardScaler()\n",
    "train_new = ss.fit_transform(train_new)\n",
    "test_new = ss.transform(test_new)\n",
    "\n",
    "pca = PCA(n_components=50)\n",
    "train_new_z = pca.fit_transform(train_new)\n",
    "test_new_z = pca.transform(test_new)"
   ]
  },
  {
   "cell_type": "code",
   "execution_count": 126,
   "metadata": {},
   "outputs": [
    {
     "data": {
      "text/plain": [
       "(116293, 50)"
      ]
     },
     "execution_count": 126,
     "metadata": {},
     "output_type": "execute_result"
    }
   ],
   "source": [
    "test_new_z.shape"
   ]
  },
  {
   "cell_type": "code",
   "execution_count": 127,
   "metadata": {},
   "outputs": [
    {
     "data": {
      "text/plain": [
       "(13276, 50)"
      ]
     },
     "execution_count": 127,
     "metadata": {},
     "output_type": "execute_result"
    }
   ],
   "source": [
    "train_new_z.shape"
   ]
  },
  {
   "cell_type": "code",
   "execution_count": 128,
   "metadata": {},
   "outputs": [
    {
     "data": {
      "text/plain": [
       "array([[-1.78737167e+08,  3.48741218e+08,  2.27488095e+08, ...,\n",
       "        -1.33075479e+08, -3.22683712e+08,  9.33870852e+07],\n",
       "       [-1.78732564e+08,  3.48735009e+08,  2.27485099e+08, ...,\n",
       "        -1.33079117e+08, -3.22693895e+08,  9.33762680e+07],\n",
       "       [-1.78737167e+08,  3.48741218e+08,  2.27488095e+08, ...,\n",
       "        -1.33075479e+08, -3.22683712e+08,  9.33870852e+07],\n",
       "       ...,\n",
       "       [-1.45503489e+08,  2.83872493e+08,  1.85229028e+08, ...,\n",
       "        -1.08266110e+08, -2.62764239e+08,  7.59194613e+07],\n",
       "       [-1.45503489e+08,  2.83872493e+08,  1.85229028e+08, ...,\n",
       "        -1.08266110e+08, -2.62764239e+08,  7.59194613e+07],\n",
       "       [-1.45503489e+08,  2.83872493e+08,  1.85229028e+08, ...,\n",
       "        -1.08266110e+08, -2.62764239e+08,  7.59194613e+07]])"
      ]
     },
     "execution_count": 128,
     "metadata": {},
     "output_type": "execute_result"
    }
   ],
   "source": [
    "test_new_z"
   ]
  },
  {
   "cell_type": "code",
   "execution_count": 129,
   "metadata": {},
   "outputs": [
    {
     "name": "stdout",
     "output_type": "stream",
     "text": [
      "Model:  LogisticRegression(C=0.1, max_iter=5000)\n"
     ]
    }
   ],
   "source": [
    "# Instantiate our model!\n",
    "logreg = LogisticRegression(max_iter=5000, solver='lbfgs', C=0.1)\n",
    "\n",
    "print('Model: ', logreg)\n",
    "\n",
    "# Fit our model!\n",
    "lr = logreg.fit(train_new_z,ysm)"
   ]
  },
  {
   "cell_type": "code",
   "execution_count": null,
   "metadata": {},
   "outputs": [],
   "source": []
  },
  {
   "cell_type": "code",
   "execution_count": 130,
   "metadata": {},
   "outputs": [],
   "source": [
    "kag = pd.read_csv('../../data/test.csv')\n",
    "# Lowercase columns\n",
    "kag.columns = [col.lower() for col in kag.columns]\n",
    "\n",
    "sample = pd.DataFrame()\n",
    "sample['Id'] = kag['id'].map(lambda x: str(x))\n",
    "sample['WnvPresent'] = lr.predict_proba(test_new_z)[:,1]\n",
    "\n",
    "sample.set_index('Id', inplace=True)\n",
    "\n",
    "sample.to_csv('./sample2.csv')"
   ]
  },
  {
   "cell_type": "code",
   "execution_count": 134,
   "metadata": {},
   "outputs": [
    {
     "data": {
      "text/plain": [
       "array([0.])"
      ]
     },
     "execution_count": 134,
     "metadata": {},
     "output_type": "execute_result"
    }
   ],
   "source": [
    "sample['WnvPresent'].unique()"
   ]
  },
  {
   "cell_type": "code",
   "execution_count": 135,
   "metadata": {},
   "outputs": [
    {
     "data": {
      "text/plain": [
       "array([[1., 0.],\n",
       "       [1., 0.],\n",
       "       [1., 0.],\n",
       "       ...,\n",
       "       [1., 0.],\n",
       "       [1., 0.],\n",
       "       [1., 0.]])"
      ]
     },
     "execution_count": 135,
     "metadata": {},
     "output_type": "execute_result"
    }
   ],
   "source": [
    "lr.predict_proba(test_new_z)"
   ]
  },
  {
   "cell_type": "code",
   "execution_count": 133,
   "metadata": {},
   "outputs": [
    {
     "name": "stdout",
     "output_type": "stream",
     "text": [
      "Training Score: 0.7911\n"
     ]
    },
    {
     "data": {
      "text/plain": [
       "0.8665316903661944"
      ]
     },
     "execution_count": 133,
     "metadata": {},
     "output_type": "execute_result"
    }
   ],
   "source": [
    "print(f'Training Score: {round(lr.score(train_new_z, ysm),4)}')\n",
    "preds_proba1 = lr.predict_proba((train_new_z))[:,1]\n",
    "metrics.roc_auc_score(ysm, preds_proba1)"
   ]
  },
  {
   "cell_type": "code",
   "execution_count": null,
   "metadata": {},
   "outputs": [],
   "source": []
  },
  {
   "cell_type": "code",
   "execution_count": null,
   "metadata": {},
   "outputs": [],
   "source": []
  },
  {
   "cell_type": "code",
   "execution_count": null,
   "metadata": {},
   "outputs": [],
   "source": []
  },
  {
   "cell_type": "code",
   "execution_count": null,
   "metadata": {},
   "outputs": [],
   "source": []
  },
  {
   "cell_type": "code",
   "execution_count": null,
   "metadata": {},
   "outputs": [],
   "source": []
  },
  {
   "cell_type": "code",
   "execution_count": null,
   "metadata": {},
   "outputs": [],
   "source": []
  },
  {
   "cell_type": "code",
   "execution_count": null,
   "metadata": {},
   "outputs": [],
   "source": []
  },
  {
   "cell_type": "code",
   "execution_count": null,
   "metadata": {},
   "outputs": [],
   "source": []
  },
  {
   "cell_type": "code",
   "execution_count": null,
   "metadata": {},
   "outputs": [],
   "source": []
  },
  {
   "cell_type": "code",
   "execution_count": null,
   "metadata": {},
   "outputs": [],
   "source": []
  },
  {
   "cell_type": "code",
   "execution_count": null,
   "metadata": {},
   "outputs": [],
   "source": []
  },
  {
   "cell_type": "code",
   "execution_count": null,
   "metadata": {},
   "outputs": [],
   "source": []
  },
  {
   "cell_type": "code",
   "execution_count": null,
   "metadata": {},
   "outputs": [],
   "source": []
  },
  {
   "cell_type": "code",
   "execution_count": null,
   "metadata": {},
   "outputs": [],
   "source": []
  },
  {
   "cell_type": "code",
   "execution_count": null,
   "metadata": {},
   "outputs": [],
   "source": []
  },
  {
   "cell_type": "code",
   "execution_count": null,
   "metadata": {},
   "outputs": [],
   "source": []
  },
  {
   "cell_type": "code",
   "execution_count": null,
   "metadata": {},
   "outputs": [],
   "source": []
  },
  {
   "cell_type": "code",
   "execution_count": null,
   "metadata": {},
   "outputs": [],
   "source": []
  },
  {
   "cell_type": "code",
   "execution_count": null,
   "metadata": {},
   "outputs": [],
   "source": []
  },
  {
   "cell_type": "code",
   "execution_count": null,
   "metadata": {},
   "outputs": [],
   "source": []
  },
  {
   "cell_type": "code",
   "execution_count": null,
   "metadata": {},
   "outputs": [],
   "source": []
  },
  {
   "cell_type": "code",
   "execution_count": null,
   "metadata": {},
   "outputs": [],
   "source": []
  },
  {
   "cell_type": "code",
   "execution_count": null,
   "metadata": {},
   "outputs": [],
   "source": []
  },
  {
   "cell_type": "code",
   "execution_count": null,
   "metadata": {},
   "outputs": [],
   "source": []
  },
  {
   "cell_type": "code",
   "execution_count": null,
   "metadata": {},
   "outputs": [],
   "source": []
  },
  {
   "cell_type": "code",
   "execution_count": null,
   "metadata": {},
   "outputs": [],
   "source": []
  },
  {
   "cell_type": "code",
   "execution_count": null,
   "metadata": {},
   "outputs": [],
   "source": []
  },
  {
   "cell_type": "code",
   "execution_count": null,
   "metadata": {},
   "outputs": [],
   "source": []
  },
  {
   "cell_type": "code",
   "execution_count": null,
   "metadata": {},
   "outputs": [],
   "source": []
  },
  {
   "cell_type": "code",
   "execution_count": null,
   "metadata": {},
   "outputs": [],
   "source": []
  },
  {
   "cell_type": "code",
   "execution_count": null,
   "metadata": {},
   "outputs": [],
   "source": []
  },
  {
   "cell_type": "code",
   "execution_count": null,
   "metadata": {},
   "outputs": [],
   "source": []
  },
  {
   "cell_type": "code",
   "execution_count": null,
   "metadata": {},
   "outputs": [],
   "source": []
  },
  {
   "cell_type": "code",
   "execution_count": null,
   "metadata": {},
   "outputs": [],
   "source": []
  },
  {
   "cell_type": "code",
   "execution_count": null,
   "metadata": {},
   "outputs": [],
   "source": []
  },
  {
   "cell_type": "code",
   "execution_count": null,
   "metadata": {},
   "outputs": [],
   "source": []
  },
  {
   "cell_type": "code",
   "execution_count": null,
   "metadata": {},
   "outputs": [],
   "source": []
  },
  {
   "cell_type": "code",
   "execution_count": null,
   "metadata": {},
   "outputs": [],
   "source": []
  },
  {
   "cell_type": "code",
   "execution_count": null,
   "metadata": {},
   "outputs": [],
   "source": []
  },
  {
   "cell_type": "code",
   "execution_count": null,
   "metadata": {},
   "outputs": [],
   "source": []
  },
  {
   "cell_type": "code",
   "execution_count": null,
   "metadata": {},
   "outputs": [],
   "source": []
  },
  {
   "cell_type": "code",
   "execution_count": null,
   "metadata": {},
   "outputs": [],
   "source": []
  }
 ],
 "metadata": {
  "kernelspec": {
   "display_name": "Python 3",
   "language": "python",
   "name": "python3"
  },
  "language_info": {
   "codemirror_mode": {
    "name": "ipython",
    "version": 3
   },
   "file_extension": ".py",
   "mimetype": "text/x-python",
   "name": "python",
   "nbconvert_exporter": "python",
   "pygments_lexer": "ipython3",
   "version": "3.7.9"
  }
 },
 "nbformat": 4,
 "nbformat_minor": 4
}
