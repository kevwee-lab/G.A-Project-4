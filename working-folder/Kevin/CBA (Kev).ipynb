{
 "cells": [
  {
   "cell_type": "markdown",
   "metadata": {},
   "source": [
    "## Cost Benefit Analysis"
   ]
  },
  {
   "cell_type": "markdown",
   "metadata": {},
   "source": [
    "Conduct a cost-benefit analysis. This should include annual cost projections for various levels of pesticide coverage (cost) and the effect of these various levels of pesticide coverage (benefit). (Hint: How would we quantify the benefit of pesticide spraying? To get \"maximum benefit,\" what does that look like and how much does that cost? What if we cover less and therefore get a lower level of benefit?)"
   ]
  },
  {
   "cell_type": "markdown",
   "metadata": {},
   "source": [
    "To determine the cost effectiveness of spraying, we first need to consider the following:<br>\n",
    "**Direct costs**: These would mainly include the cost of procuring chemicals required for spraying, inpatient and outpatient costs <br>\n",
    "**Indirect costs**: These would be productivity/economic costs incurred from people seeking short/long term treatment for the west nile virus. <br>\n"
   ]
  },
  {
   "cell_type": "markdown",
   "metadata": {},
   "source": [
    "### Cost of procuring chemicals for spraying\n",
    "\n",
    "From [external research](https://www.chicago.gov/city/en/depts/cdph/provdrs/healthy_communities/news/2020/august/city-to-spray-insecticide-thursday-to-kill-mosquitoes0.html), we know a few facts about sprays: <br>\n",
    "1) spraying is usually conducted around 8pm till 1 am using trucks with low volume sprays, and the EPA approved spray is Zenivex. <br>\n",
    "2) the spray rate is [1.5 ounces per acre](https://www.nbcchicago.com/news/local/city-to-spray-mosquito-killing-insecticide-wednesday-night/64951/). <br>\n",
    "3) the cost per gallon (128 ounces) of Zenivex is [approximately \\$ 300 USD.](http://www.gfmosquito.com/wp-content/uploads/2017/07/2017-ND-Mosq.-Control-Quotes-Tabulation.pdf) <br>\n",
    "4) the city of chicago is approximately 145,300 acres in [total area](https://www.themeasureofthings.com/results.php?comp=area&unit=a&amt=160000&p=1). <br>\n",
    "\n",
    "Therefore, in order to achieve \"maximum\" benefit, let's assume that the Chicago Department of Public Health (CDPH) adopts an aggressive approach towards culling the virus, and decides to conduct spraying on the whole of Chicago."
   ]
  },
  {
   "cell_type": "code",
   "execution_count": 1,
   "metadata": {},
   "outputs": [
    {
     "data": {
      "text/plain": [
       "227031.25"
      ]
     },
     "execution_count": 1,
     "metadata": {},
     "output_type": "execute_result"
    }
   ],
   "source": [
    "# Cost of procuring Zenivex to spray entire Chicago\n",
    "\n",
    "# amount of spray (ounces) required to spray the whole of Chicago\n",
    "spray_amt = 145300 / 1.5\n",
    "\n",
    "#amount of spray in gallons\n",
    "spray_gallon = spray_amt / 128\n",
    "\n",
    "#costs of procuring the spray\n",
    "spray_cost = spray_gallon * 300\n",
    "\n",
    "spray_cost"
   ]
  },
  {
   "cell_type": "markdown",
   "metadata": {},
   "source": [
    "It costs the state \\$227031 to purchase Zenivex for one spraying exercise for the whole of Chicago. Considering the maximum benefit scenario, we now assume that the CDPH takes into account the incubation period of mosquitos, and decides to do a bi-weekly spraying every summer for the whole of Chicago."
   ]
  },
  {
   "cell_type": "code",
   "execution_count": 2,
   "metadata": {},
   "outputs": [
    {
     "data": {
      "text/plain": [
       "1362187.5"
      ]
     },
     "execution_count": 2,
     "metadata": {},
     "output_type": "execute_result"
    }
   ],
   "source": [
    "# Annual costs of spraying\n",
    "\n",
    "annual_spray_cost = spray_cost * 6 \n",
    "\n",
    "annual_spray_cost"
   ]
  },
  {
   "cell_type": "markdown",
   "metadata": {},
   "source": [
    "In the maximum benefit scenario, the CDPH will need to set aside a budget of approximately **\\$1.36 million** annually to conduct spraying for the whole of Chicago."
   ]
  }
 ],
 "metadata": {
  "kernelspec": {
   "display_name": "Python 3",
   "language": "python",
   "name": "python3"
  },
  "language_info": {
   "codemirror_mode": {
    "name": "ipython",
    "version": 3
   },
   "file_extension": ".py",
   "mimetype": "text/x-python",
   "name": "python",
   "nbconvert_exporter": "python",
   "pygments_lexer": "ipython3",
   "version": "3.8.5"
  }
 },
 "nbformat": 4,
 "nbformat_minor": 4
}
